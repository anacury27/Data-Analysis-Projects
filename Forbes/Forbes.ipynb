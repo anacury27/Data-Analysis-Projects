{
  "nbformat": 4,
  "nbformat_minor": 0,
  "metadata": {
    "colab": {
      "provenance": []
    },
    "kernelspec": {
      "name": "python3",
      "display_name": "Python 3"
    },
    "language_info": {
      "name": "python"
    }
  },
  "cells": [
    {
      "cell_type": "code",
      "execution_count": null,
      "metadata": {
        "id": "x_JAF_8oQ2g7"
      },
      "outputs": [],
      "source": [
        "import pandas as pd"
      ]
    },
    {
      "cell_type": "code",
      "source": [
        "forbes=pd.read_csv('https://raw.githubusercontent.com/MrFelipeRE/RE_DataScience/main/Forbes-2021-Global-500-Companies-Statistics.csv')"
      ],
      "metadata": {
        "id": "btfHuBxFRL4g"
      },
      "execution_count": null,
      "outputs": []
    },
    {
      "cell_type": "code",
      "source": [
        "from google.colab import drive\n",
        "drive.mount('/content/drive')"
      ],
      "metadata": {
        "colab": {
          "base_uri": "https://localhost:8080/"
        },
        "id": "2qgYFDH_ROuq",
        "outputId": "40327eab-946c-445d-c84b-370e1c6a8e13"
      },
      "execution_count": null,
      "outputs": [
        {
          "output_type": "stream",
          "name": "stdout",
          "text": [
            "Drive already mounted at /content/drive; to attempt to forcibly remount, call drive.mount(\"/content/drive\", force_remount=True).\n"
          ]
        }
      ]
    },
    {
      "cell_type": "code",
      "source": [
        "forbes\n"
      ],
      "metadata": {
        "colab": {
          "base_uri": "https://localhost:8080/",
          "height": 554
        },
        "id": "G32_0evjTNOn",
        "outputId": "d954cc4b-0da9-4a6a-f3cd-f8979e5b26e6"
      },
      "execution_count": null,
      "outputs": [
        {
          "output_type": "execute_result",
          "data": {
            "text/plain": [
              "     Rank                                      Name        Country  \\\n",
              "0       1                                      ICBC          China   \n",
              "1       2                            JPMorgan Chase  United States   \n",
              "2       3                        Berkshire Hathaway  United States   \n",
              "3       4                   China Construction Bank          China   \n",
              "4       5  Saudi Arabian Oil Company (Saudi Aramco)   Saudi Arabia   \n",
              "..    ...                                       ...            ...   \n",
              "495   496                                       CSL      Australia   \n",
              "496   497                                    Safran         France   \n",
              "497   498                                   Banorte         Mexico   \n",
              "498   499                                   KeyCorp  United States   \n",
              "499   500                             Lufax Holding          China   \n",
              "\n",
              "          Sales $     Profit $       Assets $  Market Value $  \n",
              "0    190500000000  45800000000  4914700000000    249500000000  \n",
              "1    136200000000  40400000000  3689300000000    464800000000  \n",
              "2    245500000000  42500000000   873700000000    624400000000  \n",
              "3    173500000000  39300000000  4301700000000    210400000000  \n",
              "4    229700000000  49300000000   510300000000   1897200000000  \n",
              "..            ...          ...            ...             ...  \n",
              "495    9900000000   2600000000    17700000000     94700000000  \n",
              "496   19000000000    401300000    48400000000     66800000000  \n",
              "497    9400000000   1400000000    89700000000     17600000000  \n",
              "498    7300000000   1300000000   170300000000     20000000000  \n",
              "499    8300000000   1800000000    38100000000     34000000000  \n",
              "\n",
              "[500 rows x 7 columns]"
            ],
            "text/html": [
              "\n",
              "  <div id=\"df-a30d4aba-6636-4e86-9f3d-125c8a4efb22\">\n",
              "    <div class=\"colab-df-container\">\n",
              "      <div>\n",
              "<style scoped>\n",
              "    .dataframe tbody tr th:only-of-type {\n",
              "        vertical-align: middle;\n",
              "    }\n",
              "\n",
              "    .dataframe tbody tr th {\n",
              "        vertical-align: top;\n",
              "    }\n",
              "\n",
              "    .dataframe thead th {\n",
              "        text-align: right;\n",
              "    }\n",
              "</style>\n",
              "<table border=\"1\" class=\"dataframe\">\n",
              "  <thead>\n",
              "    <tr style=\"text-align: right;\">\n",
              "      <th></th>\n",
              "      <th>Rank</th>\n",
              "      <th>Name</th>\n",
              "      <th>Country</th>\n",
              "      <th>Sales $</th>\n",
              "      <th>Profit $</th>\n",
              "      <th>Assets $</th>\n",
              "      <th>Market Value $</th>\n",
              "    </tr>\n",
              "  </thead>\n",
              "  <tbody>\n",
              "    <tr>\n",
              "      <th>0</th>\n",
              "      <td>1</td>\n",
              "      <td>ICBC</td>\n",
              "      <td>China</td>\n",
              "      <td>190500000000</td>\n",
              "      <td>45800000000</td>\n",
              "      <td>4914700000000</td>\n",
              "      <td>249500000000</td>\n",
              "    </tr>\n",
              "    <tr>\n",
              "      <th>1</th>\n",
              "      <td>2</td>\n",
              "      <td>JPMorgan Chase</td>\n",
              "      <td>United States</td>\n",
              "      <td>136200000000</td>\n",
              "      <td>40400000000</td>\n",
              "      <td>3689300000000</td>\n",
              "      <td>464800000000</td>\n",
              "    </tr>\n",
              "    <tr>\n",
              "      <th>2</th>\n",
              "      <td>3</td>\n",
              "      <td>Berkshire Hathaway</td>\n",
              "      <td>United States</td>\n",
              "      <td>245500000000</td>\n",
              "      <td>42500000000</td>\n",
              "      <td>873700000000</td>\n",
              "      <td>624400000000</td>\n",
              "    </tr>\n",
              "    <tr>\n",
              "      <th>3</th>\n",
              "      <td>4</td>\n",
              "      <td>China Construction Bank</td>\n",
              "      <td>China</td>\n",
              "      <td>173500000000</td>\n",
              "      <td>39300000000</td>\n",
              "      <td>4301700000000</td>\n",
              "      <td>210400000000</td>\n",
              "    </tr>\n",
              "    <tr>\n",
              "      <th>4</th>\n",
              "      <td>5</td>\n",
              "      <td>Saudi Arabian Oil Company (Saudi Aramco)</td>\n",
              "      <td>Saudi Arabia</td>\n",
              "      <td>229700000000</td>\n",
              "      <td>49300000000</td>\n",
              "      <td>510300000000</td>\n",
              "      <td>1897200000000</td>\n",
              "    </tr>\n",
              "    <tr>\n",
              "      <th>...</th>\n",
              "      <td>...</td>\n",
              "      <td>...</td>\n",
              "      <td>...</td>\n",
              "      <td>...</td>\n",
              "      <td>...</td>\n",
              "      <td>...</td>\n",
              "      <td>...</td>\n",
              "    </tr>\n",
              "    <tr>\n",
              "      <th>495</th>\n",
              "      <td>496</td>\n",
              "      <td>CSL</td>\n",
              "      <td>Australia</td>\n",
              "      <td>9900000000</td>\n",
              "      <td>2600000000</td>\n",
              "      <td>17700000000</td>\n",
              "      <td>94700000000</td>\n",
              "    </tr>\n",
              "    <tr>\n",
              "      <th>496</th>\n",
              "      <td>497</td>\n",
              "      <td>Safran</td>\n",
              "      <td>France</td>\n",
              "      <td>19000000000</td>\n",
              "      <td>401300000</td>\n",
              "      <td>48400000000</td>\n",
              "      <td>66800000000</td>\n",
              "    </tr>\n",
              "    <tr>\n",
              "      <th>497</th>\n",
              "      <td>498</td>\n",
              "      <td>Banorte</td>\n",
              "      <td>Mexico</td>\n",
              "      <td>9400000000</td>\n",
              "      <td>1400000000</td>\n",
              "      <td>89700000000</td>\n",
              "      <td>17600000000</td>\n",
              "    </tr>\n",
              "    <tr>\n",
              "      <th>498</th>\n",
              "      <td>499</td>\n",
              "      <td>KeyCorp</td>\n",
              "      <td>United States</td>\n",
              "      <td>7300000000</td>\n",
              "      <td>1300000000</td>\n",
              "      <td>170300000000</td>\n",
              "      <td>20000000000</td>\n",
              "    </tr>\n",
              "    <tr>\n",
              "      <th>499</th>\n",
              "      <td>500</td>\n",
              "      <td>Lufax Holding</td>\n",
              "      <td>China</td>\n",
              "      <td>8300000000</td>\n",
              "      <td>1800000000</td>\n",
              "      <td>38100000000</td>\n",
              "      <td>34000000000</td>\n",
              "    </tr>\n",
              "  </tbody>\n",
              "</table>\n",
              "<p>500 rows × 7 columns</p>\n",
              "</div>\n",
              "      <button class=\"colab-df-convert\" onclick=\"convertToInteractive('df-a30d4aba-6636-4e86-9f3d-125c8a4efb22')\"\n",
              "              title=\"Convert this dataframe to an interactive table.\"\n",
              "              style=\"display:none;\">\n",
              "        \n",
              "  <svg xmlns=\"http://www.w3.org/2000/svg\" height=\"24px\"viewBox=\"0 0 24 24\"\n",
              "       width=\"24px\">\n",
              "    <path d=\"M0 0h24v24H0V0z\" fill=\"none\"/>\n",
              "    <path d=\"M18.56 5.44l.94 2.06.94-2.06 2.06-.94-2.06-.94-.94-2.06-.94 2.06-2.06.94zm-11 1L8.5 8.5l.94-2.06 2.06-.94-2.06-.94L8.5 2.5l-.94 2.06-2.06.94zm10 10l.94 2.06.94-2.06 2.06-.94-2.06-.94-.94-2.06-.94 2.06-2.06.94z\"/><path d=\"M17.41 7.96l-1.37-1.37c-.4-.4-.92-.59-1.43-.59-.52 0-1.04.2-1.43.59L10.3 9.45l-7.72 7.72c-.78.78-.78 2.05 0 2.83L4 21.41c.39.39.9.59 1.41.59.51 0 1.02-.2 1.41-.59l7.78-7.78 2.81-2.81c.8-.78.8-2.07 0-2.86zM5.41 20L4 18.59l7.72-7.72 1.47 1.35L5.41 20z\"/>\n",
              "  </svg>\n",
              "      </button>\n",
              "      \n",
              "  <style>\n",
              "    .colab-df-container {\n",
              "      display:flex;\n",
              "      flex-wrap:wrap;\n",
              "      gap: 12px;\n",
              "    }\n",
              "\n",
              "    .colab-df-convert {\n",
              "      background-color: #E8F0FE;\n",
              "      border: none;\n",
              "      border-radius: 50%;\n",
              "      cursor: pointer;\n",
              "      display: none;\n",
              "      fill: #1967D2;\n",
              "      height: 32px;\n",
              "      padding: 0 0 0 0;\n",
              "      width: 32px;\n",
              "    }\n",
              "\n",
              "    .colab-df-convert:hover {\n",
              "      background-color: #E2EBFA;\n",
              "      box-shadow: 0px 1px 2px rgba(60, 64, 67, 0.3), 0px 1px 3px 1px rgba(60, 64, 67, 0.15);\n",
              "      fill: #174EA6;\n",
              "    }\n",
              "\n",
              "    [theme=dark] .colab-df-convert {\n",
              "      background-color: #3B4455;\n",
              "      fill: #D2E3FC;\n",
              "    }\n",
              "\n",
              "    [theme=dark] .colab-df-convert:hover {\n",
              "      background-color: #434B5C;\n",
              "      box-shadow: 0px 1px 3px 1px rgba(0, 0, 0, 0.15);\n",
              "      filter: drop-shadow(0px 1px 2px rgba(0, 0, 0, 0.3));\n",
              "      fill: #FFFFFF;\n",
              "    }\n",
              "  </style>\n",
              "\n",
              "      <script>\n",
              "        const buttonEl =\n",
              "          document.querySelector('#df-a30d4aba-6636-4e86-9f3d-125c8a4efb22 button.colab-df-convert');\n",
              "        buttonEl.style.display =\n",
              "          google.colab.kernel.accessAllowed ? 'block' : 'none';\n",
              "\n",
              "        async function convertToInteractive(key) {\n",
              "          const element = document.querySelector('#df-a30d4aba-6636-4e86-9f3d-125c8a4efb22');\n",
              "          const dataTable =\n",
              "            await google.colab.kernel.invokeFunction('convertToInteractive',\n",
              "                                                     [key], {});\n",
              "          if (!dataTable) return;\n",
              "\n",
              "          const docLinkHtml = 'Like what you see? Visit the ' +\n",
              "            '<a target=\"_blank\" href=https://colab.research.google.com/notebooks/data_table.ipynb>data table notebook</a>'\n",
              "            + ' to learn more about interactive tables.';\n",
              "          element.innerHTML = '';\n",
              "          dataTable['output_type'] = 'display_data';\n",
              "          await google.colab.output.renderOutput(dataTable, element);\n",
              "          const docLink = document.createElement('div');\n",
              "          docLink.innerHTML = docLinkHtml;\n",
              "          element.appendChild(docLink);\n",
              "        }\n",
              "      </script>\n",
              "    </div>\n",
              "  </div>\n",
              "  "
            ]
          },
          "metadata": {},
          "execution_count": 4
        }
      ]
    },
    {
      "cell_type": "markdown",
      "source": [
        "1) Make a table with the top 5 companies with the highest Market Value and Assets difference\n"
      ],
      "metadata": {
        "id": "6jUk40gbR7Vp"
      }
    },
    {
      "cell_type": "code",
      "source": [
        "forbes['difference']=abs( forbes['Market Value $']-forbes['Assets $'])\n",
        "forbes.sort_values('difference',ascending=False).loc[:,['Name','difference']].head(5)"
      ],
      "metadata": {
        "colab": {
          "base_uri": "https://localhost:8080/",
          "height": 206
        },
        "id": "M_LG-k04Rtk0",
        "outputId": "81cfa5db-4ab2-4918-94ce-15bf587b2df1"
      },
      "execution_count": null,
      "outputs": [
        {
          "output_type": "execute_result",
          "data": {
            "text/plain": [
              "                           Name     difference\n",
              "0                          ICBC  4665200000000\n",
              "3       China Construction Bank  4091300000000\n",
              "8    Agricultural Bank of China  4019800000000\n",
              "297                  Fannie Mae  3983300000000\n",
              "13                Bank of China  3614700000000"
            ],
            "text/html": [
              "\n",
              "  <div id=\"df-25106fd2-b572-4bda-aadb-867593d23d96\">\n",
              "    <div class=\"colab-df-container\">\n",
              "      <div>\n",
              "<style scoped>\n",
              "    .dataframe tbody tr th:only-of-type {\n",
              "        vertical-align: middle;\n",
              "    }\n",
              "\n",
              "    .dataframe tbody tr th {\n",
              "        vertical-align: top;\n",
              "    }\n",
              "\n",
              "    .dataframe thead th {\n",
              "        text-align: right;\n",
              "    }\n",
              "</style>\n",
              "<table border=\"1\" class=\"dataframe\">\n",
              "  <thead>\n",
              "    <tr style=\"text-align: right;\">\n",
              "      <th></th>\n",
              "      <th>Name</th>\n",
              "      <th>difference</th>\n",
              "    </tr>\n",
              "  </thead>\n",
              "  <tbody>\n",
              "    <tr>\n",
              "      <th>0</th>\n",
              "      <td>ICBC</td>\n",
              "      <td>4665200000000</td>\n",
              "    </tr>\n",
              "    <tr>\n",
              "      <th>3</th>\n",
              "      <td>China Construction Bank</td>\n",
              "      <td>4091300000000</td>\n",
              "    </tr>\n",
              "    <tr>\n",
              "      <th>8</th>\n",
              "      <td>Agricultural Bank of China</td>\n",
              "      <td>4019800000000</td>\n",
              "    </tr>\n",
              "    <tr>\n",
              "      <th>297</th>\n",
              "      <td>Fannie Mae</td>\n",
              "      <td>3983300000000</td>\n",
              "    </tr>\n",
              "    <tr>\n",
              "      <th>13</th>\n",
              "      <td>Bank of China</td>\n",
              "      <td>3614700000000</td>\n",
              "    </tr>\n",
              "  </tbody>\n",
              "</table>\n",
              "</div>\n",
              "      <button class=\"colab-df-convert\" onclick=\"convertToInteractive('df-25106fd2-b572-4bda-aadb-867593d23d96')\"\n",
              "              title=\"Convert this dataframe to an interactive table.\"\n",
              "              style=\"display:none;\">\n",
              "        \n",
              "  <svg xmlns=\"http://www.w3.org/2000/svg\" height=\"24px\"viewBox=\"0 0 24 24\"\n",
              "       width=\"24px\">\n",
              "    <path d=\"M0 0h24v24H0V0z\" fill=\"none\"/>\n",
              "    <path d=\"M18.56 5.44l.94 2.06.94-2.06 2.06-.94-2.06-.94-.94-2.06-.94 2.06-2.06.94zm-11 1L8.5 8.5l.94-2.06 2.06-.94-2.06-.94L8.5 2.5l-.94 2.06-2.06.94zm10 10l.94 2.06.94-2.06 2.06-.94-2.06-.94-.94-2.06-.94 2.06-2.06.94z\"/><path d=\"M17.41 7.96l-1.37-1.37c-.4-.4-.92-.59-1.43-.59-.52 0-1.04.2-1.43.59L10.3 9.45l-7.72 7.72c-.78.78-.78 2.05 0 2.83L4 21.41c.39.39.9.59 1.41.59.51 0 1.02-.2 1.41-.59l7.78-7.78 2.81-2.81c.8-.78.8-2.07 0-2.86zM5.41 20L4 18.59l7.72-7.72 1.47 1.35L5.41 20z\"/>\n",
              "  </svg>\n",
              "      </button>\n",
              "      \n",
              "  <style>\n",
              "    .colab-df-container {\n",
              "      display:flex;\n",
              "      flex-wrap:wrap;\n",
              "      gap: 12px;\n",
              "    }\n",
              "\n",
              "    .colab-df-convert {\n",
              "      background-color: #E8F0FE;\n",
              "      border: none;\n",
              "      border-radius: 50%;\n",
              "      cursor: pointer;\n",
              "      display: none;\n",
              "      fill: #1967D2;\n",
              "      height: 32px;\n",
              "      padding: 0 0 0 0;\n",
              "      width: 32px;\n",
              "    }\n",
              "\n",
              "    .colab-df-convert:hover {\n",
              "      background-color: #E2EBFA;\n",
              "      box-shadow: 0px 1px 2px rgba(60, 64, 67, 0.3), 0px 1px 3px 1px rgba(60, 64, 67, 0.15);\n",
              "      fill: #174EA6;\n",
              "    }\n",
              "\n",
              "    [theme=dark] .colab-df-convert {\n",
              "      background-color: #3B4455;\n",
              "      fill: #D2E3FC;\n",
              "    }\n",
              "\n",
              "    [theme=dark] .colab-df-convert:hover {\n",
              "      background-color: #434B5C;\n",
              "      box-shadow: 0px 1px 3px 1px rgba(0, 0, 0, 0.15);\n",
              "      filter: drop-shadow(0px 1px 2px rgba(0, 0, 0, 0.3));\n",
              "      fill: #FFFFFF;\n",
              "    }\n",
              "  </style>\n",
              "\n",
              "      <script>\n",
              "        const buttonEl =\n",
              "          document.querySelector('#df-25106fd2-b572-4bda-aadb-867593d23d96 button.colab-df-convert');\n",
              "        buttonEl.style.display =\n",
              "          google.colab.kernel.accessAllowed ? 'block' : 'none';\n",
              "\n",
              "        async function convertToInteractive(key) {\n",
              "          const element = document.querySelector('#df-25106fd2-b572-4bda-aadb-867593d23d96');\n",
              "          const dataTable =\n",
              "            await google.colab.kernel.invokeFunction('convertToInteractive',\n",
              "                                                     [key], {});\n",
              "          if (!dataTable) return;\n",
              "\n",
              "          const docLinkHtml = 'Like what you see? Visit the ' +\n",
              "            '<a target=\"_blank\" href=https://colab.research.google.com/notebooks/data_table.ipynb>data table notebook</a>'\n",
              "            + ' to learn more about interactive tables.';\n",
              "          element.innerHTML = '';\n",
              "          dataTable['output_type'] = 'display_data';\n",
              "          await google.colab.output.renderOutput(dataTable, element);\n",
              "          const docLink = document.createElement('div');\n",
              "          docLink.innerHTML = docLinkHtml;\n",
              "          element.appendChild(docLink);\n",
              "        }\n",
              "      </script>\n",
              "    </div>\n",
              "  </div>\n",
              "  "
            ]
          },
          "metadata": {},
          "execution_count": 55
        }
      ]
    },
    {
      "cell_type": "markdown",
      "source": [
        "2) Make a list of the company of each country with the highest Assets"
      ],
      "metadata": {
        "id": "x5mGxJv4TZvB"
      }
    },
    {
      "cell_type": "code",
      "source": [
        "forbes.sort_values('Assets $',ascending=False).drop_duplicates('Country').loc[:,['Name','Country','Assets $',]].set_index('Name')"
      ],
      "metadata": {
        "colab": {
          "base_uri": "https://localhost:8080/",
          "height": 1000
        },
        "id": "Pqle3VSHR_9J",
        "outputId": "81e3487a-22b4-4d83-a3ac-b6cd1e9ae74f"
      },
      "execution_count": null,
      "outputs": [
        {
          "output_type": "execute_result",
          "data": {
            "text/plain": [
              "                                                       Country       Assets $\n",
              "Name                                                                         \n",
              "ICBC                                                     China  4914700000000\n",
              "Fannie Mae                                       United States  3986100000000\n",
              "Mitsubishi UFJ Financial                                 Japan  3406500000000\n",
              "BNP Paribas                                             France  3044800000000\n",
              "HSBC Holdings                                   United Kingdom  2984200000000\n",
              "Santander                                                Spain  1845400000000\n",
              "Deutsche Bank                                          Germany  1621500000000\n",
              "TD Bank Group                                           Canada  1358600000000\n",
              "CITIC                                                Hong Kong  1256300000000\n",
              "Intesa Sanpaolo                                          Italy  1226700000000\n",
              "ING Group                                          Netherlands  1146800000000\n",
              "UBS                                                Switzerland  1125800000000\n",
              "Commonwealth Bank                                    Australia   816200000000\n",
              "Nordea Bank                                            Finland   676100000000\n",
              "Danske Bank                                            Denmark   675500000000\n",
              "State Bank of India                                      India   638100000000\n",
              "Aviva                                                Venezuela   637700000000\n",
              "KB Financial Group                                 South Korea   564400000000\n",
              "Saudi Arabian Oil Company (Saudi Aramco)          Saudi Arabia   510300000000\n",
              "DBS                                                  Singapore   491900000000\n",
              "Sberbank                                                Russia   486900000000\n",
              "KBC Group                                              Belgium   392400000000\n",
              "Itaú Unibanco Holding                                   Brazil   389700000000\n",
              "Cathay Financial                                        Taiwan   389400000000\n",
              "Svenska Handelsbanken                                   Sweden   381800000000\n",
              "DNB                                                     Norway   340900000000\n",
              "Qatar National Bank                                      Qatar   286300000000\n",
              "First Abu Dhabi Bank                      United Arab Emirates   250200000000\n",
              "Maybank                                               Malaysia   213000000000\n",
              "Athene Holding                                         Bermuda   197900000000\n",
              "Bank Rakyat Indonesia (BRI)                          Indonesia   107600000000\n",
              "Rio Tinto                                           Luxembourg    97400000000\n",
              "Medtronic                                              Ireland    97300000000\n",
              "Banorte                                                 Mexico    89700000000\n",
              "PTT                                                   Thailand    84900000000\n",
              "OMV Group                                              Austria    63400000000\n",
              "Edp-energias De Portugal                              Portugal    52500000000"
            ],
            "text/html": [
              "\n",
              "  <div id=\"df-14df2968-633f-4443-8646-9524b104b01e\">\n",
              "    <div class=\"colab-df-container\">\n",
              "      <div>\n",
              "<style scoped>\n",
              "    .dataframe tbody tr th:only-of-type {\n",
              "        vertical-align: middle;\n",
              "    }\n",
              "\n",
              "    .dataframe tbody tr th {\n",
              "        vertical-align: top;\n",
              "    }\n",
              "\n",
              "    .dataframe thead th {\n",
              "        text-align: right;\n",
              "    }\n",
              "</style>\n",
              "<table border=\"1\" class=\"dataframe\">\n",
              "  <thead>\n",
              "    <tr style=\"text-align: right;\">\n",
              "      <th></th>\n",
              "      <th>Country</th>\n",
              "      <th>Assets $</th>\n",
              "    </tr>\n",
              "    <tr>\n",
              "      <th>Name</th>\n",
              "      <th></th>\n",
              "      <th></th>\n",
              "    </tr>\n",
              "  </thead>\n",
              "  <tbody>\n",
              "    <tr>\n",
              "      <th>ICBC</th>\n",
              "      <td>China</td>\n",
              "      <td>4914700000000</td>\n",
              "    </tr>\n",
              "    <tr>\n",
              "      <th>Fannie Mae</th>\n",
              "      <td>United States</td>\n",
              "      <td>3986100000000</td>\n",
              "    </tr>\n",
              "    <tr>\n",
              "      <th>Mitsubishi UFJ Financial</th>\n",
              "      <td>Japan</td>\n",
              "      <td>3406500000000</td>\n",
              "    </tr>\n",
              "    <tr>\n",
              "      <th>BNP Paribas</th>\n",
              "      <td>France</td>\n",
              "      <td>3044800000000</td>\n",
              "    </tr>\n",
              "    <tr>\n",
              "      <th>HSBC Holdings</th>\n",
              "      <td>United Kingdom</td>\n",
              "      <td>2984200000000</td>\n",
              "    </tr>\n",
              "    <tr>\n",
              "      <th>Santander</th>\n",
              "      <td>Spain</td>\n",
              "      <td>1845400000000</td>\n",
              "    </tr>\n",
              "    <tr>\n",
              "      <th>Deutsche Bank</th>\n",
              "      <td>Germany</td>\n",
              "      <td>1621500000000</td>\n",
              "    </tr>\n",
              "    <tr>\n",
              "      <th>TD Bank Group</th>\n",
              "      <td>Canada</td>\n",
              "      <td>1358600000000</td>\n",
              "    </tr>\n",
              "    <tr>\n",
              "      <th>CITIC</th>\n",
              "      <td>Hong Kong</td>\n",
              "      <td>1256300000000</td>\n",
              "    </tr>\n",
              "    <tr>\n",
              "      <th>Intesa Sanpaolo</th>\n",
              "      <td>Italy</td>\n",
              "      <td>1226700000000</td>\n",
              "    </tr>\n",
              "    <tr>\n",
              "      <th>ING Group</th>\n",
              "      <td>Netherlands</td>\n",
              "      <td>1146800000000</td>\n",
              "    </tr>\n",
              "    <tr>\n",
              "      <th>UBS</th>\n",
              "      <td>Switzerland</td>\n",
              "      <td>1125800000000</td>\n",
              "    </tr>\n",
              "    <tr>\n",
              "      <th>Commonwealth Bank</th>\n",
              "      <td>Australia</td>\n",
              "      <td>816200000000</td>\n",
              "    </tr>\n",
              "    <tr>\n",
              "      <th>Nordea Bank</th>\n",
              "      <td>Finland</td>\n",
              "      <td>676100000000</td>\n",
              "    </tr>\n",
              "    <tr>\n",
              "      <th>Danske Bank</th>\n",
              "      <td>Denmark</td>\n",
              "      <td>675500000000</td>\n",
              "    </tr>\n",
              "    <tr>\n",
              "      <th>State Bank of India</th>\n",
              "      <td>India</td>\n",
              "      <td>638100000000</td>\n",
              "    </tr>\n",
              "    <tr>\n",
              "      <th>Aviva</th>\n",
              "      <td>Venezuela</td>\n",
              "      <td>637700000000</td>\n",
              "    </tr>\n",
              "    <tr>\n",
              "      <th>KB Financial Group</th>\n",
              "      <td>South Korea</td>\n",
              "      <td>564400000000</td>\n",
              "    </tr>\n",
              "    <tr>\n",
              "      <th>Saudi Arabian Oil Company (Saudi Aramco)</th>\n",
              "      <td>Saudi Arabia</td>\n",
              "      <td>510300000000</td>\n",
              "    </tr>\n",
              "    <tr>\n",
              "      <th>DBS</th>\n",
              "      <td>Singapore</td>\n",
              "      <td>491900000000</td>\n",
              "    </tr>\n",
              "    <tr>\n",
              "      <th>Sberbank</th>\n",
              "      <td>Russia</td>\n",
              "      <td>486900000000</td>\n",
              "    </tr>\n",
              "    <tr>\n",
              "      <th>KBC Group</th>\n",
              "      <td>Belgium</td>\n",
              "      <td>392400000000</td>\n",
              "    </tr>\n",
              "    <tr>\n",
              "      <th>Itaú Unibanco Holding</th>\n",
              "      <td>Brazil</td>\n",
              "      <td>389700000000</td>\n",
              "    </tr>\n",
              "    <tr>\n",
              "      <th>Cathay Financial</th>\n",
              "      <td>Taiwan</td>\n",
              "      <td>389400000000</td>\n",
              "    </tr>\n",
              "    <tr>\n",
              "      <th>Svenska Handelsbanken</th>\n",
              "      <td>Sweden</td>\n",
              "      <td>381800000000</td>\n",
              "    </tr>\n",
              "    <tr>\n",
              "      <th>DNB</th>\n",
              "      <td>Norway</td>\n",
              "      <td>340900000000</td>\n",
              "    </tr>\n",
              "    <tr>\n",
              "      <th>Qatar National Bank</th>\n",
              "      <td>Qatar</td>\n",
              "      <td>286300000000</td>\n",
              "    </tr>\n",
              "    <tr>\n",
              "      <th>First Abu Dhabi Bank</th>\n",
              "      <td>United Arab Emirates</td>\n",
              "      <td>250200000000</td>\n",
              "    </tr>\n",
              "    <tr>\n",
              "      <th>Maybank</th>\n",
              "      <td>Malaysia</td>\n",
              "      <td>213000000000</td>\n",
              "    </tr>\n",
              "    <tr>\n",
              "      <th>Athene Holding</th>\n",
              "      <td>Bermuda</td>\n",
              "      <td>197900000000</td>\n",
              "    </tr>\n",
              "    <tr>\n",
              "      <th>Bank Rakyat Indonesia (BRI)</th>\n",
              "      <td>Indonesia</td>\n",
              "      <td>107600000000</td>\n",
              "    </tr>\n",
              "    <tr>\n",
              "      <th>Rio Tinto</th>\n",
              "      <td>Luxembourg</td>\n",
              "      <td>97400000000</td>\n",
              "    </tr>\n",
              "    <tr>\n",
              "      <th>Medtronic</th>\n",
              "      <td>Ireland</td>\n",
              "      <td>97300000000</td>\n",
              "    </tr>\n",
              "    <tr>\n",
              "      <th>Banorte</th>\n",
              "      <td>Mexico</td>\n",
              "      <td>89700000000</td>\n",
              "    </tr>\n",
              "    <tr>\n",
              "      <th>PTT</th>\n",
              "      <td>Thailand</td>\n",
              "      <td>84900000000</td>\n",
              "    </tr>\n",
              "    <tr>\n",
              "      <th>OMV Group</th>\n",
              "      <td>Austria</td>\n",
              "      <td>63400000000</td>\n",
              "    </tr>\n",
              "    <tr>\n",
              "      <th>Edp-energias De Portugal</th>\n",
              "      <td>Portugal</td>\n",
              "      <td>52500000000</td>\n",
              "    </tr>\n",
              "  </tbody>\n",
              "</table>\n",
              "</div>\n",
              "      <button class=\"colab-df-convert\" onclick=\"convertToInteractive('df-14df2968-633f-4443-8646-9524b104b01e')\"\n",
              "              title=\"Convert this dataframe to an interactive table.\"\n",
              "              style=\"display:none;\">\n",
              "        \n",
              "  <svg xmlns=\"http://www.w3.org/2000/svg\" height=\"24px\"viewBox=\"0 0 24 24\"\n",
              "       width=\"24px\">\n",
              "    <path d=\"M0 0h24v24H0V0z\" fill=\"none\"/>\n",
              "    <path d=\"M18.56 5.44l.94 2.06.94-2.06 2.06-.94-2.06-.94-.94-2.06-.94 2.06-2.06.94zm-11 1L8.5 8.5l.94-2.06 2.06-.94-2.06-.94L8.5 2.5l-.94 2.06-2.06.94zm10 10l.94 2.06.94-2.06 2.06-.94-2.06-.94-.94-2.06-.94 2.06-2.06.94z\"/><path d=\"M17.41 7.96l-1.37-1.37c-.4-.4-.92-.59-1.43-.59-.52 0-1.04.2-1.43.59L10.3 9.45l-7.72 7.72c-.78.78-.78 2.05 0 2.83L4 21.41c.39.39.9.59 1.41.59.51 0 1.02-.2 1.41-.59l7.78-7.78 2.81-2.81c.8-.78.8-2.07 0-2.86zM5.41 20L4 18.59l7.72-7.72 1.47 1.35L5.41 20z\"/>\n",
              "  </svg>\n",
              "      </button>\n",
              "      \n",
              "  <style>\n",
              "    .colab-df-container {\n",
              "      display:flex;\n",
              "      flex-wrap:wrap;\n",
              "      gap: 12px;\n",
              "    }\n",
              "\n",
              "    .colab-df-convert {\n",
              "      background-color: #E8F0FE;\n",
              "      border: none;\n",
              "      border-radius: 50%;\n",
              "      cursor: pointer;\n",
              "      display: none;\n",
              "      fill: #1967D2;\n",
              "      height: 32px;\n",
              "      padding: 0 0 0 0;\n",
              "      width: 32px;\n",
              "    }\n",
              "\n",
              "    .colab-df-convert:hover {\n",
              "      background-color: #E2EBFA;\n",
              "      box-shadow: 0px 1px 2px rgba(60, 64, 67, 0.3), 0px 1px 3px 1px rgba(60, 64, 67, 0.15);\n",
              "      fill: #174EA6;\n",
              "    }\n",
              "\n",
              "    [theme=dark] .colab-df-convert {\n",
              "      background-color: #3B4455;\n",
              "      fill: #D2E3FC;\n",
              "    }\n",
              "\n",
              "    [theme=dark] .colab-df-convert:hover {\n",
              "      background-color: #434B5C;\n",
              "      box-shadow: 0px 1px 3px 1px rgba(0, 0, 0, 0.15);\n",
              "      filter: drop-shadow(0px 1px 2px rgba(0, 0, 0, 0.3));\n",
              "      fill: #FFFFFF;\n",
              "    }\n",
              "  </style>\n",
              "\n",
              "      <script>\n",
              "        const buttonEl =\n",
              "          document.querySelector('#df-14df2968-633f-4443-8646-9524b104b01e button.colab-df-convert');\n",
              "        buttonEl.style.display =\n",
              "          google.colab.kernel.accessAllowed ? 'block' : 'none';\n",
              "\n",
              "        async function convertToInteractive(key) {\n",
              "          const element = document.querySelector('#df-14df2968-633f-4443-8646-9524b104b01e');\n",
              "          const dataTable =\n",
              "            await google.colab.kernel.invokeFunction('convertToInteractive',\n",
              "                                                     [key], {});\n",
              "          if (!dataTable) return;\n",
              "\n",
              "          const docLinkHtml = 'Like what you see? Visit the ' +\n",
              "            '<a target=\"_blank\" href=https://colab.research.google.com/notebooks/data_table.ipynb>data table notebook</a>'\n",
              "            + ' to learn more about interactive tables.';\n",
              "          element.innerHTML = '';\n",
              "          dataTable['output_type'] = 'display_data';\n",
              "          await google.colab.output.renderOutput(dataTable, element);\n",
              "          const docLink = document.createElement('div');\n",
              "          docLink.innerHTML = docLinkHtml;\n",
              "          element.appendChild(docLink);\n",
              "        }\n",
              "      </script>\n",
              "    </div>\n",
              "  </div>\n",
              "  "
            ]
          },
          "metadata": {},
          "execution_count": 6
        }
      ]
    },
    {
      "cell_type": "markdown",
      "source": [
        "3) Show a table with the max, min, and ave Market values for each country."
      ],
      "metadata": {
        "id": "g-OYM-_tUkat"
      }
    },
    {
      "cell_type": "code",
      "source": [
        "forbes.groupby('Country')['Profit $'].describe().loc[:,['max','min','mean']]"
      ],
      "metadata": {
        "colab": {
          "base_uri": "https://localhost:8080/",
          "height": 1000
        },
        "id": "YfhkdhptUKHI",
        "outputId": "272b13be-8c5d-4579-b4a3-55388824659f"
      },
      "execution_count": null,
      "outputs": [
        {
          "output_type": "execute_result",
          "data": {
            "text/plain": [
              "                               max           min          mean\n",
              "Country                                                       \n",
              "Australia             6.900000e+09  9.728000e+08  2.915709e+09\n",
              "Austria               1.400000e+09  1.400000e+09  1.400000e+09\n",
              "Belgium               1.600000e+09 -7.420000e+08  4.290000e+08\n",
              "Bermuda               1.500000e+09  1.500000e+09  1.500000e+09\n",
              "Brazil                5.200000e+09  1.400000e+09  3.160000e+09\n",
              "Canada                9.100000e+09 -1.759000e+08  3.266871e+09\n",
              "China                 4.580000e+10  5.847000e+08  6.389368e+09\n",
              "Denmark               6.400000e+09  6.175000e+08  3.272500e+09\n",
              "Finland               2.500000e+09  2.100000e+09  2.300000e+09\n",
              "France                1.400000e+10 -7.600000e+09  2.287048e+09\n",
              "Germany               9.500000e+09 -1.200000e+10  2.269121e+09\n",
              "Hong Kong             1.560000e+10  9.606000e+08  4.532782e+09\n",
              "India                 5.700000e+09  1.300000e+09  3.077778e+09\n",
              "Indonesia             1.900000e+09  1.300000e+09  1.600000e+09\n",
              "Ireland               5.500000e+09  9.230000e+08  2.544600e+09\n",
              "Italy                 8.200000e+09 -9.800000e+09  1.400000e+09\n",
              "Japan                 1.490000e+10  6.576000e+08  3.112428e+09\n",
              "Luxembourg            9.700000e+09  9.700000e+09  9.700000e+09\n",
              "Malaysia              1.500000e+09  1.500000e+09  1.500000e+09\n",
              "Mexico                2.200000e+09  1.400000e+09  1.833333e+09\n",
              "Netherlands           4.100000e+09 -2.220000e+10 -1.433362e+09\n",
              "Norway                2.000000e+09 -5.400000e+09 -5.666667e+08\n",
              "Portugal              9.135000e+08  9.135000e+08  9.135000e+08\n",
              "Qatar                 3.000000e+09  3.000000e+09  3.000000e+09\n",
              "Russia                1.040000e+10 -9.212000e+08  3.931417e+09\n",
              "Saudi Arabia          4.930000e+10  3.700000e+07  9.782700e+09\n",
              "Singapore             3.400000e+09  1.500000e+09  2.375000e+09\n",
              "South Korea           2.210000e+10  4.345000e+08  3.089487e+09\n",
              "Spain                 4.100000e+09 -1.000000e+10  0.000000e+00\n",
              "Sweden                5.700000e+09  1.700000e+09  2.620000e+09\n",
              "Switzerland           1.520000e+10 -2.000000e+09  5.354545e+09\n",
              "Taiwan                1.870000e+10  1.500000e+09  5.860000e+09\n",
              "Thailand              1.200000e+09  1.200000e+09  1.200000e+09\n",
              "United Arab Emirates  2.800000e+09  1.700000e+09  2.333333e+09\n",
              "United Kingdom        7.400000e+09 -2.090000e+10  1.296171e+09\n",
              "United States         6.390000e+10 -2.240000e+10  5.373428e+09\n",
              "Venezuela             3.600000e+09  3.600000e+09  3.600000e+09"
            ],
            "text/html": [
              "\n",
              "  <div id=\"df-46cbda5f-24d0-43e7-b159-9b26e9a82dc5\">\n",
              "    <div class=\"colab-df-container\">\n",
              "      <div>\n",
              "<style scoped>\n",
              "    .dataframe tbody tr th:only-of-type {\n",
              "        vertical-align: middle;\n",
              "    }\n",
              "\n",
              "    .dataframe tbody tr th {\n",
              "        vertical-align: top;\n",
              "    }\n",
              "\n",
              "    .dataframe thead th {\n",
              "        text-align: right;\n",
              "    }\n",
              "</style>\n",
              "<table border=\"1\" class=\"dataframe\">\n",
              "  <thead>\n",
              "    <tr style=\"text-align: right;\">\n",
              "      <th></th>\n",
              "      <th>max</th>\n",
              "      <th>min</th>\n",
              "      <th>mean</th>\n",
              "    </tr>\n",
              "    <tr>\n",
              "      <th>Country</th>\n",
              "      <th></th>\n",
              "      <th></th>\n",
              "      <th></th>\n",
              "    </tr>\n",
              "  </thead>\n",
              "  <tbody>\n",
              "    <tr>\n",
              "      <th>Australia</th>\n",
              "      <td>6.900000e+09</td>\n",
              "      <td>9.728000e+08</td>\n",
              "      <td>2.915709e+09</td>\n",
              "    </tr>\n",
              "    <tr>\n",
              "      <th>Austria</th>\n",
              "      <td>1.400000e+09</td>\n",
              "      <td>1.400000e+09</td>\n",
              "      <td>1.400000e+09</td>\n",
              "    </tr>\n",
              "    <tr>\n",
              "      <th>Belgium</th>\n",
              "      <td>1.600000e+09</td>\n",
              "      <td>-7.420000e+08</td>\n",
              "      <td>4.290000e+08</td>\n",
              "    </tr>\n",
              "    <tr>\n",
              "      <th>Bermuda</th>\n",
              "      <td>1.500000e+09</td>\n",
              "      <td>1.500000e+09</td>\n",
              "      <td>1.500000e+09</td>\n",
              "    </tr>\n",
              "    <tr>\n",
              "      <th>Brazil</th>\n",
              "      <td>5.200000e+09</td>\n",
              "      <td>1.400000e+09</td>\n",
              "      <td>3.160000e+09</td>\n",
              "    </tr>\n",
              "    <tr>\n",
              "      <th>Canada</th>\n",
              "      <td>9.100000e+09</td>\n",
              "      <td>-1.759000e+08</td>\n",
              "      <td>3.266871e+09</td>\n",
              "    </tr>\n",
              "    <tr>\n",
              "      <th>China</th>\n",
              "      <td>4.580000e+10</td>\n",
              "      <td>5.847000e+08</td>\n",
              "      <td>6.389368e+09</td>\n",
              "    </tr>\n",
              "    <tr>\n",
              "      <th>Denmark</th>\n",
              "      <td>6.400000e+09</td>\n",
              "      <td>6.175000e+08</td>\n",
              "      <td>3.272500e+09</td>\n",
              "    </tr>\n",
              "    <tr>\n",
              "      <th>Finland</th>\n",
              "      <td>2.500000e+09</td>\n",
              "      <td>2.100000e+09</td>\n",
              "      <td>2.300000e+09</td>\n",
              "    </tr>\n",
              "    <tr>\n",
              "      <th>France</th>\n",
              "      <td>1.400000e+10</td>\n",
              "      <td>-7.600000e+09</td>\n",
              "      <td>2.287048e+09</td>\n",
              "    </tr>\n",
              "    <tr>\n",
              "      <th>Germany</th>\n",
              "      <td>9.500000e+09</td>\n",
              "      <td>-1.200000e+10</td>\n",
              "      <td>2.269121e+09</td>\n",
              "    </tr>\n",
              "    <tr>\n",
              "      <th>Hong Kong</th>\n",
              "      <td>1.560000e+10</td>\n",
              "      <td>9.606000e+08</td>\n",
              "      <td>4.532782e+09</td>\n",
              "    </tr>\n",
              "    <tr>\n",
              "      <th>India</th>\n",
              "      <td>5.700000e+09</td>\n",
              "      <td>1.300000e+09</td>\n",
              "      <td>3.077778e+09</td>\n",
              "    </tr>\n",
              "    <tr>\n",
              "      <th>Indonesia</th>\n",
              "      <td>1.900000e+09</td>\n",
              "      <td>1.300000e+09</td>\n",
              "      <td>1.600000e+09</td>\n",
              "    </tr>\n",
              "    <tr>\n",
              "      <th>Ireland</th>\n",
              "      <td>5.500000e+09</td>\n",
              "      <td>9.230000e+08</td>\n",
              "      <td>2.544600e+09</td>\n",
              "    </tr>\n",
              "    <tr>\n",
              "      <th>Italy</th>\n",
              "      <td>8.200000e+09</td>\n",
              "      <td>-9.800000e+09</td>\n",
              "      <td>1.400000e+09</td>\n",
              "    </tr>\n",
              "    <tr>\n",
              "      <th>Japan</th>\n",
              "      <td>1.490000e+10</td>\n",
              "      <td>6.576000e+08</td>\n",
              "      <td>3.112428e+09</td>\n",
              "    </tr>\n",
              "    <tr>\n",
              "      <th>Luxembourg</th>\n",
              "      <td>9.700000e+09</td>\n",
              "      <td>9.700000e+09</td>\n",
              "      <td>9.700000e+09</td>\n",
              "    </tr>\n",
              "    <tr>\n",
              "      <th>Malaysia</th>\n",
              "      <td>1.500000e+09</td>\n",
              "      <td>1.500000e+09</td>\n",
              "      <td>1.500000e+09</td>\n",
              "    </tr>\n",
              "    <tr>\n",
              "      <th>Mexico</th>\n",
              "      <td>2.200000e+09</td>\n",
              "      <td>1.400000e+09</td>\n",
              "      <td>1.833333e+09</td>\n",
              "    </tr>\n",
              "    <tr>\n",
              "      <th>Netherlands</th>\n",
              "      <td>4.100000e+09</td>\n",
              "      <td>-2.220000e+10</td>\n",
              "      <td>-1.433362e+09</td>\n",
              "    </tr>\n",
              "    <tr>\n",
              "      <th>Norway</th>\n",
              "      <td>2.000000e+09</td>\n",
              "      <td>-5.400000e+09</td>\n",
              "      <td>-5.666667e+08</td>\n",
              "    </tr>\n",
              "    <tr>\n",
              "      <th>Portugal</th>\n",
              "      <td>9.135000e+08</td>\n",
              "      <td>9.135000e+08</td>\n",
              "      <td>9.135000e+08</td>\n",
              "    </tr>\n",
              "    <tr>\n",
              "      <th>Qatar</th>\n",
              "      <td>3.000000e+09</td>\n",
              "      <td>3.000000e+09</td>\n",
              "      <td>3.000000e+09</td>\n",
              "    </tr>\n",
              "    <tr>\n",
              "      <th>Russia</th>\n",
              "      <td>1.040000e+10</td>\n",
              "      <td>-9.212000e+08</td>\n",
              "      <td>3.931417e+09</td>\n",
              "    </tr>\n",
              "    <tr>\n",
              "      <th>Saudi Arabia</th>\n",
              "      <td>4.930000e+10</td>\n",
              "      <td>3.700000e+07</td>\n",
              "      <td>9.782700e+09</td>\n",
              "    </tr>\n",
              "    <tr>\n",
              "      <th>Singapore</th>\n",
              "      <td>3.400000e+09</td>\n",
              "      <td>1.500000e+09</td>\n",
              "      <td>2.375000e+09</td>\n",
              "    </tr>\n",
              "    <tr>\n",
              "      <th>South Korea</th>\n",
              "      <td>2.210000e+10</td>\n",
              "      <td>4.345000e+08</td>\n",
              "      <td>3.089487e+09</td>\n",
              "    </tr>\n",
              "    <tr>\n",
              "      <th>Spain</th>\n",
              "      <td>4.100000e+09</td>\n",
              "      <td>-1.000000e+10</td>\n",
              "      <td>0.000000e+00</td>\n",
              "    </tr>\n",
              "    <tr>\n",
              "      <th>Sweden</th>\n",
              "      <td>5.700000e+09</td>\n",
              "      <td>1.700000e+09</td>\n",
              "      <td>2.620000e+09</td>\n",
              "    </tr>\n",
              "    <tr>\n",
              "      <th>Switzerland</th>\n",
              "      <td>1.520000e+10</td>\n",
              "      <td>-2.000000e+09</td>\n",
              "      <td>5.354545e+09</td>\n",
              "    </tr>\n",
              "    <tr>\n",
              "      <th>Taiwan</th>\n",
              "      <td>1.870000e+10</td>\n",
              "      <td>1.500000e+09</td>\n",
              "      <td>5.860000e+09</td>\n",
              "    </tr>\n",
              "    <tr>\n",
              "      <th>Thailand</th>\n",
              "      <td>1.200000e+09</td>\n",
              "      <td>1.200000e+09</td>\n",
              "      <td>1.200000e+09</td>\n",
              "    </tr>\n",
              "    <tr>\n",
              "      <th>United Arab Emirates</th>\n",
              "      <td>2.800000e+09</td>\n",
              "      <td>1.700000e+09</td>\n",
              "      <td>2.333333e+09</td>\n",
              "    </tr>\n",
              "    <tr>\n",
              "      <th>United Kingdom</th>\n",
              "      <td>7.400000e+09</td>\n",
              "      <td>-2.090000e+10</td>\n",
              "      <td>1.296171e+09</td>\n",
              "    </tr>\n",
              "    <tr>\n",
              "      <th>United States</th>\n",
              "      <td>6.390000e+10</td>\n",
              "      <td>-2.240000e+10</td>\n",
              "      <td>5.373428e+09</td>\n",
              "    </tr>\n",
              "    <tr>\n",
              "      <th>Venezuela</th>\n",
              "      <td>3.600000e+09</td>\n",
              "      <td>3.600000e+09</td>\n",
              "      <td>3.600000e+09</td>\n",
              "    </tr>\n",
              "  </tbody>\n",
              "</table>\n",
              "</div>\n",
              "      <button class=\"colab-df-convert\" onclick=\"convertToInteractive('df-46cbda5f-24d0-43e7-b159-9b26e9a82dc5')\"\n",
              "              title=\"Convert this dataframe to an interactive table.\"\n",
              "              style=\"display:none;\">\n",
              "        \n",
              "  <svg xmlns=\"http://www.w3.org/2000/svg\" height=\"24px\"viewBox=\"0 0 24 24\"\n",
              "       width=\"24px\">\n",
              "    <path d=\"M0 0h24v24H0V0z\" fill=\"none\"/>\n",
              "    <path d=\"M18.56 5.44l.94 2.06.94-2.06 2.06-.94-2.06-.94-.94-2.06-.94 2.06-2.06.94zm-11 1L8.5 8.5l.94-2.06 2.06-.94-2.06-.94L8.5 2.5l-.94 2.06-2.06.94zm10 10l.94 2.06.94-2.06 2.06-.94-2.06-.94-.94-2.06-.94 2.06-2.06.94z\"/><path d=\"M17.41 7.96l-1.37-1.37c-.4-.4-.92-.59-1.43-.59-.52 0-1.04.2-1.43.59L10.3 9.45l-7.72 7.72c-.78.78-.78 2.05 0 2.83L4 21.41c.39.39.9.59 1.41.59.51 0 1.02-.2 1.41-.59l7.78-7.78 2.81-2.81c.8-.78.8-2.07 0-2.86zM5.41 20L4 18.59l7.72-7.72 1.47 1.35L5.41 20z\"/>\n",
              "  </svg>\n",
              "      </button>\n",
              "      \n",
              "  <style>\n",
              "    .colab-df-container {\n",
              "      display:flex;\n",
              "      flex-wrap:wrap;\n",
              "      gap: 12px;\n",
              "    }\n",
              "\n",
              "    .colab-df-convert {\n",
              "      background-color: #E8F0FE;\n",
              "      border: none;\n",
              "      border-radius: 50%;\n",
              "      cursor: pointer;\n",
              "      display: none;\n",
              "      fill: #1967D2;\n",
              "      height: 32px;\n",
              "      padding: 0 0 0 0;\n",
              "      width: 32px;\n",
              "    }\n",
              "\n",
              "    .colab-df-convert:hover {\n",
              "      background-color: #E2EBFA;\n",
              "      box-shadow: 0px 1px 2px rgba(60, 64, 67, 0.3), 0px 1px 3px 1px rgba(60, 64, 67, 0.15);\n",
              "      fill: #174EA6;\n",
              "    }\n",
              "\n",
              "    [theme=dark] .colab-df-convert {\n",
              "      background-color: #3B4455;\n",
              "      fill: #D2E3FC;\n",
              "    }\n",
              "\n",
              "    [theme=dark] .colab-df-convert:hover {\n",
              "      background-color: #434B5C;\n",
              "      box-shadow: 0px 1px 3px 1px rgba(0, 0, 0, 0.15);\n",
              "      filter: drop-shadow(0px 1px 2px rgba(0, 0, 0, 0.3));\n",
              "      fill: #FFFFFF;\n",
              "    }\n",
              "  </style>\n",
              "\n",
              "      <script>\n",
              "        const buttonEl =\n",
              "          document.querySelector('#df-46cbda5f-24d0-43e7-b159-9b26e9a82dc5 button.colab-df-convert');\n",
              "        buttonEl.style.display =\n",
              "          google.colab.kernel.accessAllowed ? 'block' : 'none';\n",
              "\n",
              "        async function convertToInteractive(key) {\n",
              "          const element = document.querySelector('#df-46cbda5f-24d0-43e7-b159-9b26e9a82dc5');\n",
              "          const dataTable =\n",
              "            await google.colab.kernel.invokeFunction('convertToInteractive',\n",
              "                                                     [key], {});\n",
              "          if (!dataTable) return;\n",
              "\n",
              "          const docLinkHtml = 'Like what you see? Visit the ' +\n",
              "            '<a target=\"_blank\" href=https://colab.research.google.com/notebooks/data_table.ipynb>data table notebook</a>'\n",
              "            + ' to learn more about interactive tables.';\n",
              "          element.innerHTML = '';\n",
              "          dataTable['output_type'] = 'display_data';\n",
              "          await google.colab.output.renderOutput(dataTable, element);\n",
              "          const docLink = document.createElement('div');\n",
              "          docLink.innerHTML = docLinkHtml;\n",
              "          element.appendChild(docLink);\n",
              "        }\n",
              "      </script>\n",
              "    </div>\n",
              "  </div>\n",
              "  "
            ]
          },
          "metadata": {},
          "execution_count": 7
        }
      ]
    },
    {
      "cell_type": "markdown",
      "source": [
        "4) Make a list with the top assets reported per country.\n"
      ],
      "metadata": {
        "id": "TiWSpXagVV2V"
      }
    },
    {
      "cell_type": "code",
      "source": [
        "forbes.groupby(['Country'])['Assets $'].count().sort_values(ascending=False)"
      ],
      "metadata": {
        "colab": {
          "base_uri": "https://localhost:8080/"
        },
        "id": "Sn1KHxWlVVZV",
        "outputId": "34fa4304-fddf-4aea-d633-1f0854e505ad"
      },
      "execution_count": null,
      "outputs": [
        {
          "output_type": "execute_result",
          "data": {
            "text/plain": [
              "Country\n",
              "United States           170\n",
              "China                    68\n",
              "Japan                    43\n",
              "France                   23\n",
              "United Kingdom           21\n",
              "Germany                  19\n",
              "Canada                   17\n",
              "South Korea              15\n",
              "Australia                11\n",
              "Hong Kong                11\n",
              "Switzerland              11\n",
              "India                     9\n",
              "Netherlands               8\n",
              "Spain                     6\n",
              "Saudi Arabia              6\n",
              "Russia                    6\n",
              "Italy                     6\n",
              "Ireland                   5\n",
              "Taiwan                    5\n",
              "Brazil                    5\n",
              "Sweden                    5\n",
              "Singapore                 4\n",
              "United Arab Emirates      3\n",
              "Mexico                    3\n",
              "Norway                    3\n",
              "Denmark                   3\n",
              "Indonesia                 2\n",
              "Finland                   2\n",
              "Belgium                   2\n",
              "Thailand                  1\n",
              "Malaysia                  1\n",
              "Qatar                     1\n",
              "Portugal                  1\n",
              "Austria                   1\n",
              "Luxembourg                1\n",
              "Bermuda                   1\n",
              "Venezuela                 1\n",
              "Name: Assets $, dtype: int64"
            ]
          },
          "metadata": {},
          "execution_count": 8
        }
      ]
    },
    {
      "cell_type": "markdown",
      "source": [
        "5)What are the countries with the highest Sales and  lowest sales?"
      ],
      "metadata": {
        "id": "iZgca-8xXK5U"
      }
    },
    {
      "cell_type": "code",
      "source": [
        "forbes.groupby('Country')['Sales $'].mean().sort_values(ascending=False).iloc[[0,-1]]\n"
      ],
      "metadata": {
        "colab": {
          "base_uri": "https://localhost:8080/"
        },
        "id": "sksHqtv1XKne",
        "outputId": "fef2103b-f2fc-4731-bc9c-af36d1b365b4"
      },
      "execution_count": null,
      "outputs": [
        {
          "output_type": "execute_result",
          "data": {
            "text/plain": [
              "Country\n",
              "Germany      7.443158e+10\n",
              "Indonesia    8.000000e+09\n",
              "Name: Sales $, dtype: float64"
            ]
          },
          "metadata": {},
          "execution_count": 32
        }
      ]
    },
    {
      "cell_type": "markdown",
      "source": [
        "6)Which company has the lowest assets in the US?"
      ],
      "metadata": {
        "id": "8KOsfy08ZhRG"
      }
    },
    {
      "cell_type": "code",
      "source": [
        "forbes[forbes['Country']=='United States'].groupby('Name')['Assets $'].idxmin().sort_values(ascending=False).head(1)"
      ],
      "metadata": {
        "colab": {
          "base_uri": "https://localhost:8080/"
        },
        "id": "HaUfgiw35WuC",
        "outputId": "50527340-1e18-4022-d4b4-58b9b36b8e60"
      },
      "execution_count": null,
      "outputs": [
        {
          "output_type": "execute_result",
          "data": {
            "text/plain": [
              "Name\n",
              "KeyCorp    498\n",
              "Name: Assets $, dtype: int64"
            ]
          },
          "metadata": {},
          "execution_count": 10
        }
      ]
    },
    {
      "cell_type": "markdown",
      "source": [
        "7) How many Unites States companies are in top 100 rank?"
      ],
      "metadata": {
        "id": "3HMmCQG_7eC7"
      }
    },
    {
      "cell_type": "code",
      "source": [
        "forbes[forbes['Country']=='United States'][forbes['Rank']<100].count().head(1)"
      ],
      "metadata": {
        "colab": {
          "base_uri": "https://localhost:8080/"
        },
        "id": "T54NQxhgSNvH",
        "outputId": "4a830357-5455-468d-a59e-c368964903af"
      },
      "execution_count": null,
      "outputs": [
        {
          "output_type": "stream",
          "name": "stderr",
          "text": [
            "/usr/local/lib/python3.7/dist-packages/ipykernel_launcher.py:1: UserWarning: Boolean Series key will be reindexed to match DataFrame index.\n",
            "  \"\"\"Entry point for launching an IPython kernel.\n"
          ]
        },
        {
          "output_type": "execute_result",
          "data": {
            "text/plain": [
              "Rank    39\n",
              "dtype: int64"
            ]
          },
          "metadata": {},
          "execution_count": 29
        }
      ]
    },
    {
      "cell_type": "markdown",
      "source": [
        "8) Show a graph including 10 companies with the lowest sales in US"
      ],
      "metadata": {
        "id": "7tsvxZm79STf"
      }
    },
    {
      "cell_type": "code",
      "source": [
        "forbes[forbes['Country']=='United States'].groupby('Name')['Sales $'].idxmin().sort_values(ascending=False).head(10).plot(kind='bar')"
      ],
      "metadata": {
        "id": "Pbeo66989QFk",
        "colab": {
          "base_uri": "https://localhost:8080/",
          "height": 455
        },
        "outputId": "34621a0c-021c-45b6-9950-089dd7abf746"
      },
      "execution_count": null,
      "outputs": [
        {
          "output_type": "execute_result",
          "data": {
            "text/plain": [
              "<matplotlib.axes._subplots.AxesSubplot at 0x7f906da89050>"
            ]
          },
          "metadata": {},
          "execution_count": 38
        },
        {
          "output_type": "display_data",
          "data": {
            "text/plain": [
              "<Figure size 432x288 with 1 Axes>"
            ],
            "image/png": "[encoded data removed]"
          },
          "metadata": {}
        }
      ]
    },
    {
      "cell_type": "markdown",
      "source": [
        "9)Create a bar graph showing the top 5 companies with the highest Assets"
      ],
      "metadata": {
        "id": "sFHXW8kJtRJ4"
      }
    },
    {
      "cell_type": "code",
      "source": [
        "forbes.groupby('Country')['Assets $'].sum().sort_values(ascending=False).head().plot(kind='bar')"
      ],
      "metadata": {
        "colab": {
          "base_uri": "https://localhost:8080/",
          "height": 393
        },
        "id": "Gews_GtGu-kG",
        "outputId": "1d7b29a5-b1ae-4697-d8fc-cf2fc4334753"
      },
      "execution_count": null,
      "outputs": [
        {
          "output_type": "execute_result",
          "data": {
            "text/plain": [
              "<matplotlib.axes._subplots.AxesSubplot at 0x7f9073770510>"
            ]
          },
          "metadata": {},
          "execution_count": 14
        },
        {
          "output_type": "display_data",
          "data": {
            "text/plain": [
              "<Figure size 432x288 with 1 Axes>"
            ],
            "image/png": "[encoded data removed]"
          },
          "metadata": {}
        }
      ]
    },
    {
      "cell_type": "markdown",
      "source": [
        "10) Create a scatter plot comparing profits and sales of US companies"
      ],
      "metadata": {
        "id": "t5cs8E-WtVmT"
      }
    },
    {
      "cell_type": "code",
      "source": [
        "forbes[forbes['Country']=='United States'].plot.scatter(x=\"Sales $\", y=\"Profit $\", alpha=0.5)"
      ],
      "metadata": {
        "colab": {
          "base_uri": "https://localhost:8080/",
          "height": 352
        },
        "id": "aVU-4XUXtVPa",
        "outputId": "000a0c89-e8d3-4b7e-bf65-1efe2435e8b1"
      },
      "execution_count": null,
      "outputs": [
        {
          "output_type": "stream",
          "name": "stderr",
          "text": [
            "WARNING:matplotlib.axes._axes:*c* argument looks like a single numeric RGB or RGBA sequence, which should be avoided as value-mapping will have precedence in case its length matches with *x* & *y*.  Please use the *color* keyword-argument or provide a 2-D array with a single row if you intend to specify the same RGB or RGBA value for all points.\n"
          ]
        },
        {
          "output_type": "execute_result",
          "data": {
            "text/plain": [
              "<matplotlib.axes._subplots.AxesSubplot at 0x7f9071a93490>"
            ]
          },
          "metadata": {},
          "execution_count": 19
        },
        {
          "output_type": "display_data",
          "data": {
            "text/plain": [
              "<Figure size 432x288 with 1 Axes>"
            ],
            "image/png": "[encoded data removed]"
          },
          "metadata": {}
        }
      ]
    },
    {
      "cell_type": "markdown",
      "source": [
        "11) What percent of the companies are based in the United States?"
      ],
      "metadata": {
        "id": "0SrDysqWWbr2"
      }
    },
    {
      "cell_type": "code",
      "source": [
        "forbes[forbes['Country']=='United States'].count().head(1)/500*100"
      ],
      "metadata": {
        "colab": {
          "base_uri": "https://localhost:8080/"
        },
        "id": "3TIwBP0QWVwe",
        "outputId": "c1a7e300-2486-4f49-9506-25a98d05f2b9"
      },
      "execution_count": null,
      "outputs": [
        {
          "output_type": "execute_result",
          "data": {
            "text/plain": [
              "Rank    34.0\n",
              "dtype: float64"
            ]
          },
          "metadata": {},
          "execution_count": 54
        }
      ]
    },
    {
      "cell_type": "markdown",
      "source": [
        "In the data set by Forbes 2021 Global 500 Companies Statistics, there is data on the sales, profits, assets, and market value of the top 500 companies in the world. When extracting and organizing the information I focused on the United States and discovered that in the top 100 companies in the world 39 of those are based in the US demonstrating America’s dominant role in the global market. Fannie Mae, a US company, has the second largest assets in the world right after China, however, America still holds the #1 spot for assets. The United States' highest market value company is worth 60 trillion, and the average market value is $5 trillion which is huge compared to neighboring countries. While some US companies like Key Corp aren’t as successful as JP Morgan, these companies influence economies, businesses, and individuals in more ways than one. These big corporations in the US make up 34% of the top 500 rank resulting in America having an enormous impact on supply and demand chains, production, consumer satisfaction, anpolicies.\n"
      ],
      "metadata": {
        "id": "8B4eGQ24bMrP"
      }
    }
  ]
}