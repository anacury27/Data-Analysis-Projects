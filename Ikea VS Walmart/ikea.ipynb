{
  "nbformat": 4,
  "nbformat_minor": 0,
  "metadata": {
    "colab": {
      "provenance": []
    },
    "kernelspec": {
      "name": "python3",
      "display_name": "Python 3"
    },
    "language_info": {
      "name": "python"
    }
  },
  "cells": [
    {
      "cell_type": "code",
      "execution_count": null,
      "metadata": {
        "id": "ryerX3ih_wZC"
      },
      "outputs": [],
      "source": [
        "import pandas as pd"
      ]
    },
    {
      "cell_type": "code",
      "source": [
        "from google.colab import drive\n",
        "drive.mount('/content/drive')"
      ],
      "metadata": {
        "colab": {
          "base_uri": "https://localhost:8080/"
        },
        "id": "_ClgwMxaAEYi",
        "outputId": "2fe1e5d0-a025-4505-9acc-bfcfb90e7ac0"
      },
      "execution_count": null,
      "outputs": [
        {
          "output_type": "stream",
          "name": "stdout",
          "text": [
            "Mounted at /content/drive\n"
          ]
        }
      ]
    },
    {
      "cell_type": "code",
      "source": [
        "walmart = pd.read_csv('/content/drive/MyDrive/Data science/data/WMT_Grocery_202209.csv.zip')"
      ],
      "metadata": {
        "colab": {
          "base_uri": "https://localhost:8080/"
        },
        "id": "OtRlpFD6_-vP",
        "outputId": "6168f7a0-2164-438f-943f-e411abd27e29"
      },
      "execution_count": null,
      "outputs": [
        {
          "output_type": "stream",
          "name": "stderr",
          "text": [
            "/usr/local/lib/python3.7/dist-packages/IPython/core/interactiveshell.py:3326: DtypeWarning: Columns (4) have mixed types.Specify dtype option on import or set low_memory=False.\n",
            "  exec(code_obj, self.user_global_ns, self.user_ns)\n"
          ]
        }
      ]
    },
    {
      "cell_type": "code",
      "source": [
        "ikea= pd.read_csv('/content/drive/MyDrive/Data science/data/ikea.csv')"
      ],
      "metadata": {
        "id": "A4msHMu7AXdb"
      },
      "execution_count": null,
      "outputs": []
    },
    {
      "cell_type": "code",
      "source": [
        "walmart['PRICE_CURRENT'].max(),walmart['PRICE_CURRENT'].min()"
      ],
      "metadata": {
        "colab": {
          "base_uri": "https://localhost:8080/"
        },
        "id": "lIp-AP_OBAtc",
        "outputId": "433afc77-e7f5-4534-fb52-ea3c0767444e"
      },
      "execution_count": null,
      "outputs": [
        {
          "output_type": "execute_result",
          "data": {
            "text/plain": [
              "(246.87, 0.16)"
            ]
          },
          "metadata": {},
          "execution_count": 25
        }
      ]
    },
    {
      "cell_type": "code",
      "source": [
        "walmart.sort_values(['PRICE_CURRENT'],ascending=False)"
      ],
      "metadata": {
        "colab": {
          "base_uri": "https://localhost:8080/",
          "height": 1000
        },
        "id": "oFuJ3kYsD2Wj",
        "outputId": "deeea5b4-33da-4713-dcd1-96f23cdea9a8"
      },
      "execution_count": null,
      "outputs": [
        {
          "output_type": "execute_result",
          "data": {
            "text/plain": [
              "         index  SHIPPING_LOCATION      DEPARTMENT                 CATEGORY  \\\n",
              "64803    64803              77449           Candy      Gummy & chewy candy   \n",
              "252918  252918              70072          Coffee       Coffee Accessories   \n",
              "252774  252774              77449          Coffee       Coffee Accessories   \n",
              "247346  247346              15601          Coffee       Coffee Accessories   \n",
              "247954  247954              75052          Coffee       Coffee Accessories   \n",
              "...        ...                ...             ...                      ...   \n",
              "495868  495868              23223   Fresh Produce             Fresh Fruits   \n",
              "278395  278395              44035  Meat & Seafood               Fresh Food   \n",
              "413913  413913              72034   Fresh Produce  Cut Fruits & Vegetables   \n",
              "428382  428382              63376   Fresh Produce             Fresh Fruits   \n",
              "270952  270952              63376  Meat & Seafood               Fresh Food   \n",
              "\n",
              "          SUBCATEGORY                            BREADCRUMBS        SKU  \\\n",
              "64803             NaN              Candy/Gummy & chewy candy  363594371   \n",
              "252918  Coffee Makers              Coffee/Coffee Accessories  485611743   \n",
              "252774  Coffee Makers              Coffee/Coffee Accessories  485611743   \n",
              "247346  Coffee Makers              Coffee/Coffee Accessories  485611743   \n",
              "247954  Coffee Makers              Coffee/Coffee Accessories  485611743   \n",
              "...               ...                                    ...        ...   \n",
              "495868       Shop all             Fresh Produce/Fresh Fruits   44390948   \n",
              "278395   Fresh Fruits              Meat & Seafood/Fresh Food   44390948   \n",
              "413913       Shop all  Fresh Produce/Cut Fruits & Vegetables   44391135   \n",
              "428382       Shop all             Fresh Produce/Fresh Fruits   44390948   \n",
              "270952   Fresh Fruits              Meat & Seafood/Fresh Food   44390948   \n",
              "\n",
              "                                              PRODUCT_URL  \\\n",
              "64803   https://www.walmart.com/ip/Hi-Chew-Original-Mi...   \n",
              "252918  https://www.walmart.com/ip/Ninja-DualBrew-Spec...   \n",
              "252774  https://www.walmart.com/ip/Ninja-DualBrew-Spec...   \n",
              "247346  https://www.walmart.com/ip/Ninja-DualBrew-Spec...   \n",
              "247954  https://www.walmart.com/ip/Ninja-DualBrew-Spec...   \n",
              "...                                                   ...   \n",
              "495868  https://www.walmart.com/ip/Bananas-each/443909...   \n",
              "278395  https://www.walmart.com/ip/Bananas-each/443909...   \n",
              "413913  https://www.walmart.com/ip/Fresh-Poblano-Peppe...   \n",
              "428382  https://www.walmart.com/ip/Bananas-each/443909...   \n",
              "270952  https://www.walmart.com/ip/Bananas-each/443909...   \n",
              "\n",
              "                                             PRODUCT_NAME              BRAND  \\\n",
              "64803                Hi Chew Original Mix Candy - 12.7 Oz            Hi-Chew   \n",
              "252918  Ninja DualBrew Specialty Coffee System, Single...              Ninja   \n",
              "252774  Ninja DualBrew Specialty Coffee System, Single...              Ninja   \n",
              "247346  Ninja DualBrew Specialty Coffee System, Single...              Ninja   \n",
              "247954  Ninja DualBrew Specialty Coffee System, Single...              Ninja   \n",
              "...                                                   ...                ...   \n",
              "495868                                      Bananas, each  PRODUCE UNBRANDED   \n",
              "278395                                      Bananas, each  PRODUCE UNBRANDED   \n",
              "413913                         Fresh Poblano Pepper, Each  PRODUCE UNBRANDED   \n",
              "428382                                      Bananas, each  PRODUCE UNBRANDED   \n",
              "270952                                      Bananas, each  PRODUCE UNBRANDED   \n",
              "\n",
              "        PRICE_RETAIL  PRICE_CURRENT PRODUCT_SIZE  PROMOTION  \\\n",
              "64803         246.87         246.87         12.7        NaN   \n",
              "252918        198.00         198.00          NaN        NaN   \n",
              "252774        198.00         198.00          NaN        NaN   \n",
              "247346        198.00         198.00          NaN        NaN   \n",
              "247954        198.00         198.00          NaN        NaN   \n",
              "...              ...            ...          ...        ...   \n",
              "495868          0.17           0.17          NaN        NaN   \n",
              "278395          0.17           0.17          NaN        NaN   \n",
              "413913          0.16           0.16          NaN        NaN   \n",
              "428382          0.16           0.16          NaN        NaN   \n",
              "270952          0.16           0.16          NaN        NaN   \n",
              "\n",
              "                    RunDate       tid  \n",
              "64803   2022-09-11 21:20:04  16228607  \n",
              "252918  2022-09-11 21:20:04  16416722  \n",
              "252774  2022-09-11 21:20:04  16416578  \n",
              "247346  2022-09-11 21:20:04  16411150  \n",
              "247954  2022-09-11 21:20:04  16411758  \n",
              "...                     ...       ...  \n",
              "495868  2022-09-11 21:20:04  16659672  \n",
              "278395  2022-09-11 21:20:04  16442199  \n",
              "413913  2022-09-11 21:20:04  16577717  \n",
              "428382  2022-09-11 21:20:04  16592186  \n",
              "270952  2022-09-11 21:20:04  16434756  \n",
              "\n",
              "[568534 rows x 16 columns]"
            ],
            "text/html": [
              "\n",
              "  <div id=\"df-42647fcc-4af6-41c0-b9cb-dcb4d4e5d1ff\">\n",
              "    <div class=\"colab-df-container\">\n",
              "      <div>\n",
              "<style scoped>\n",
              "    .dataframe tbody tr th:only-of-type {\n",
              "        vertical-align: middle;\n",
              "    }\n",
              "\n",
              "    .dataframe tbody tr th {\n",
              "        vertical-align: top;\n",
              "    }\n",
              "\n",
              "    .dataframe thead th {\n",
              "        text-align: right;\n",
              "    }\n",
              "</style>\n",
              "<table border=\"1\" class=\"dataframe\">\n",
              "  <thead>\n",
              "    <tr style=\"text-align: right;\">\n",
              "      <th></th>\n",
              "      <th>index</th>\n",
              "      <th>SHIPPING_LOCATION</th>\n",
              "      <th>DEPARTMENT</th>\n",
              "      <th>CATEGORY</th>\n",
              "      <th>SUBCATEGORY</th>\n",
              "      <th>BREADCRUMBS</th>\n",
              "      <th>SKU</th>\n",
              "      <th>PRODUCT_URL</th>\n",
              "      <th>PRODUCT_NAME</th>\n",
              "      <th>BRAND</th>\n",
              "      <th>PRICE_RETAIL</th>\n",
              "      <th>PRICE_CURRENT</th>\n",
              "      <th>PRODUCT_SIZE</th>\n",
              "      <th>PROMOTION</th>\n",
              "      <th>RunDate</th>\n",
              "      <th>tid</th>\n",
              "    </tr>\n",
              "  </thead>\n",
              "  <tbody>\n",
              "    <tr>\n",
              "      <th>64803</th>\n",
              "      <td>64803</td>\n",
              "      <td>77449</td>\n",
              "      <td>Candy</td>\n",
              "      <td>Gummy &amp; chewy candy</td>\n",
              "      <td>NaN</td>\n",
              "      <td>Candy/Gummy &amp; chewy candy</td>\n",
              "      <td>363594371</td>\n",
              "      <td>https://www.walmart.com/ip/Hi-Chew-Original-Mi...</td>\n",
              "      <td>Hi Chew Original Mix Candy - 12.7 Oz</td>\n",
              "      <td>Hi-Chew</td>\n",
              "      <td>246.87</td>\n",
              "      <td>246.87</td>\n",
              "      <td>12.7</td>\n",
              "      <td>NaN</td>\n",
              "      <td>2022-09-11 21:20:04</td>\n",
              "      <td>16228607</td>\n",
              "    </tr>\n",
              "    <tr>\n",
              "      <th>252918</th>\n",
              "      <td>252918</td>\n",
              "      <td>70072</td>\n",
              "      <td>Coffee</td>\n",
              "      <td>Coffee Accessories</td>\n",
              "      <td>Coffee Makers</td>\n",
              "      <td>Coffee/Coffee Accessories</td>\n",
              "      <td>485611743</td>\n",
              "      <td>https://www.walmart.com/ip/Ninja-DualBrew-Spec...</td>\n",
              "      <td>Ninja DualBrew Specialty Coffee System, Single...</td>\n",
              "      <td>Ninja</td>\n",
              "      <td>198.00</td>\n",
              "      <td>198.00</td>\n",
              "      <td>NaN</td>\n",
              "      <td>NaN</td>\n",
              "      <td>2022-09-11 21:20:04</td>\n",
              "      <td>16416722</td>\n",
              "    </tr>\n",
              "    <tr>\n",
              "      <th>252774</th>\n",
              "      <td>252774</td>\n",
              "      <td>77449</td>\n",
              "      <td>Coffee</td>\n",
              "      <td>Coffee Accessories</td>\n",
              "      <td>Coffee Makers</td>\n",
              "      <td>Coffee/Coffee Accessories</td>\n",
              "      <td>485611743</td>\n",
              "      <td>https://www.walmart.com/ip/Ninja-DualBrew-Spec...</td>\n",
              "      <td>Ninja DualBrew Specialty Coffee System, Single...</td>\n",
              "      <td>Ninja</td>\n",
              "      <td>198.00</td>\n",
              "      <td>198.00</td>\n",
              "      <td>NaN</td>\n",
              "      <td>NaN</td>\n",
              "      <td>2022-09-11 21:20:04</td>\n",
              "      <td>16416578</td>\n",
              "    </tr>\n",
              "    <tr>\n",
              "      <th>247346</th>\n",
              "      <td>247346</td>\n",
              "      <td>15601</td>\n",
              "      <td>Coffee</td>\n",
              "      <td>Coffee Accessories</td>\n",
              "      <td>Coffee Makers</td>\n",
              "      <td>Coffee/Coffee Accessories</td>\n",
              "      <td>485611743</td>\n",
              "      <td>https://www.walmart.com/ip/Ninja-DualBrew-Spec...</td>\n",
              "      <td>Ninja DualBrew Specialty Coffee System, Single...</td>\n",
              "      <td>Ninja</td>\n",
              "      <td>198.00</td>\n",
              "      <td>198.00</td>\n",
              "      <td>NaN</td>\n",
              "      <td>NaN</td>\n",
              "      <td>2022-09-11 21:20:04</td>\n",
              "      <td>16411150</td>\n",
              "    </tr>\n",
              "    <tr>\n",
              "      <th>247954</th>\n",
              "      <td>247954</td>\n",
              "      <td>75052</td>\n",
              "      <td>Coffee</td>\n",
              "      <td>Coffee Accessories</td>\n",
              "      <td>Coffee Makers</td>\n",
              "      <td>Coffee/Coffee Accessories</td>\n",
              "      <td>485611743</td>\n",
              "      <td>https://www.walmart.com/ip/Ninja-DualBrew-Spec...</td>\n",
              "      <td>Ninja DualBrew Specialty Coffee System, Single...</td>\n",
              "      <td>Ninja</td>\n",
              "      <td>198.00</td>\n",
              "      <td>198.00</td>\n",
              "      <td>NaN</td>\n",
              "      <td>NaN</td>\n",
              "      <td>2022-09-11 21:20:04</td>\n",
              "      <td>16411758</td>\n",
              "    </tr>\n",
              "    <tr>\n",
              "      <th>...</th>\n",
              "      <td>...</td>\n",
              "      <td>...</td>\n",
              "      <td>...</td>\n",
              "      <td>...</td>\n",
              "      <td>...</td>\n",
              "      <td>...</td>\n",
              "      <td>...</td>\n",
              "      <td>...</td>\n",
              "      <td>...</td>\n",
              "      <td>...</td>\n",
              "      <td>...</td>\n",
              "      <td>...</td>\n",
              "      <td>...</td>\n",
              "      <td>...</td>\n",
              "      <td>...</td>\n",
              "      <td>...</td>\n",
              "    </tr>\n",
              "    <tr>\n",
              "      <th>495868</th>\n",
              "      <td>495868</td>\n",
              "      <td>23223</td>\n",
              "      <td>Fresh Produce</td>\n",
              "      <td>Fresh Fruits</td>\n",
              "      <td>Shop all</td>\n",
              "      <td>Fresh Produce/Fresh Fruits</td>\n",
              "      <td>44390948</td>\n",
              "      <td>https://www.walmart.com/ip/Bananas-each/443909...</td>\n",
              "      <td>Bananas, each</td>\n",
              "      <td>PRODUCE UNBRANDED</td>\n",
              "      <td>0.17</td>\n",
              "      <td>0.17</td>\n",
              "      <td>NaN</td>\n",
              "      <td>NaN</td>\n",
              "      <td>2022-09-11 21:20:04</td>\n",
              "      <td>16659672</td>\n",
              "    </tr>\n",
              "    <tr>\n",
              "      <th>278395</th>\n",
              "      <td>278395</td>\n",
              "      <td>44035</td>\n",
              "      <td>Meat &amp; Seafood</td>\n",
              "      <td>Fresh Food</td>\n",
              "      <td>Fresh Fruits</td>\n",
              "      <td>Meat &amp; Seafood/Fresh Food</td>\n",
              "      <td>44390948</td>\n",
              "      <td>https://www.walmart.com/ip/Bananas-each/443909...</td>\n",
              "      <td>Bananas, each</td>\n",
              "      <td>PRODUCE UNBRANDED</td>\n",
              "      <td>0.17</td>\n",
              "      <td>0.17</td>\n",
              "      <td>NaN</td>\n",
              "      <td>NaN</td>\n",
              "      <td>2022-09-11 21:20:04</td>\n",
              "      <td>16442199</td>\n",
              "    </tr>\n",
              "    <tr>\n",
              "      <th>413913</th>\n",
              "      <td>413913</td>\n",
              "      <td>72034</td>\n",
              "      <td>Fresh Produce</td>\n",
              "      <td>Cut Fruits &amp; Vegetables</td>\n",
              "      <td>Shop all</td>\n",
              "      <td>Fresh Produce/Cut Fruits &amp; Vegetables</td>\n",
              "      <td>44391135</td>\n",
              "      <td>https://www.walmart.com/ip/Fresh-Poblano-Peppe...</td>\n",
              "      <td>Fresh Poblano Pepper, Each</td>\n",
              "      <td>PRODUCE UNBRANDED</td>\n",
              "      <td>0.16</td>\n",
              "      <td>0.16</td>\n",
              "      <td>NaN</td>\n",
              "      <td>NaN</td>\n",
              "      <td>2022-09-11 21:20:04</td>\n",
              "      <td>16577717</td>\n",
              "    </tr>\n",
              "    <tr>\n",
              "      <th>428382</th>\n",
              "      <td>428382</td>\n",
              "      <td>63376</td>\n",
              "      <td>Fresh Produce</td>\n",
              "      <td>Fresh Fruits</td>\n",
              "      <td>Shop all</td>\n",
              "      <td>Fresh Produce/Fresh Fruits</td>\n",
              "      <td>44390948</td>\n",
              "      <td>https://www.walmart.com/ip/Bananas-each/443909...</td>\n",
              "      <td>Bananas, each</td>\n",
              "      <td>PRODUCE UNBRANDED</td>\n",
              "      <td>0.16</td>\n",
              "      <td>0.16</td>\n",
              "      <td>NaN</td>\n",
              "      <td>NaN</td>\n",
              "      <td>2022-09-11 21:20:04</td>\n",
              "      <td>16592186</td>\n",
              "    </tr>\n",
              "    <tr>\n",
              "      <th>270952</th>\n",
              "      <td>270952</td>\n",
              "      <td>63376</td>\n",
              "      <td>Meat &amp; Seafood</td>\n",
              "      <td>Fresh Food</td>\n",
              "      <td>Fresh Fruits</td>\n",
              "      <td>Meat &amp; Seafood/Fresh Food</td>\n",
              "      <td>44390948</td>\n",
              "      <td>https://www.walmart.com/ip/Bananas-each/443909...</td>\n",
              "      <td>Bananas, each</td>\n",
              "      <td>PRODUCE UNBRANDED</td>\n",
              "      <td>0.16</td>\n",
              "      <td>0.16</td>\n",
              "      <td>NaN</td>\n",
              "      <td>NaN</td>\n",
              "      <td>2022-09-11 21:20:04</td>\n",
              "      <td>16434756</td>\n",
              "    </tr>\n",
              "  </tbody>\n",
              "</table>\n",
              "<p>568534 rows × 16 columns</p>\n",
              "</div>\n",
              "      <button class=\"colab-df-convert\" onclick=\"convertToInteractive('df-42647fcc-4af6-41c0-b9cb-dcb4d4e5d1ff')\"\n",
              "              title=\"Convert this dataframe to an interactive table.\"\n",
              "              style=\"display:none;\">\n",
              "        \n",
              "  <svg xmlns=\"http://www.w3.org/2000/svg\" height=\"24px\"viewBox=\"0 0 24 24\"\n",
              "       width=\"24px\">\n",
              "    <path d=\"M0 0h24v24H0V0z\" fill=\"none\"/>\n",
              "    <path d=\"M18.56 5.44l.94 2.06.94-2.06 2.06-.94-2.06-.94-.94-2.06-.94 2.06-2.06.94zm-11 1L8.5 8.5l.94-2.06 2.06-.94-2.06-.94L8.5 2.5l-.94 2.06-2.06.94zm10 10l.94 2.06.94-2.06 2.06-.94-2.06-.94-.94-2.06-.94 2.06-2.06.94z\"/><path d=\"M17.41 7.96l-1.37-1.37c-.4-.4-.92-.59-1.43-.59-.52 0-1.04.2-1.43.59L10.3 9.45l-7.72 7.72c-.78.78-.78 2.05 0 2.83L4 21.41c.39.39.9.59 1.41.59.51 0 1.02-.2 1.41-.59l7.78-7.78 2.81-2.81c.8-.78.8-2.07 0-2.86zM5.41 20L4 18.59l7.72-7.72 1.47 1.35L5.41 20z\"/>\n",
              "  </svg>\n",
              "      </button>\n",
              "      \n",
              "  <style>\n",
              "    .colab-df-container {\n",
              "      display:flex;\n",
              "      flex-wrap:wrap;\n",
              "      gap: 12px;\n",
              "    }\n",
              "\n",
              "    .colab-df-convert {\n",
              "      background-color: #E8F0FE;\n",
              "      border: none;\n",
              "      border-radius: 50%;\n",
              "      cursor: pointer;\n",
              "      display: none;\n",
              "      fill: #1967D2;\n",
              "      height: 32px;\n",
              "      padding: 0 0 0 0;\n",
              "      width: 32px;\n",
              "    }\n",
              "\n",
              "    .colab-df-convert:hover {\n",
              "      background-color: #E2EBFA;\n",
              "      box-shadow: 0px 1px 2px rgba(60, 64, 67, 0.3), 0px 1px 3px 1px rgba(60, 64, 67, 0.15);\n",
              "      fill: #174EA6;\n",
              "    }\n",
              "\n",
              "    [theme=dark] .colab-df-convert {\n",
              "      background-color: #3B4455;\n",
              "      fill: #D2E3FC;\n",
              "    }\n",
              "\n",
              "    [theme=dark] .colab-df-convert:hover {\n",
              "      background-color: #434B5C;\n",
              "      box-shadow: 0px 1px 3px 1px rgba(0, 0, 0, 0.15);\n",
              "      filter: drop-shadow(0px 1px 2px rgba(0, 0, 0, 0.3));\n",
              "      fill: #FFFFFF;\n",
              "    }\n",
              "  </style>\n",
              "\n",
              "      <script>\n",
              "        const buttonEl =\n",
              "          document.querySelector('#df-42647fcc-4af6-41c0-b9cb-dcb4d4e5d1ff button.colab-df-convert');\n",
              "        buttonEl.style.display =\n",
              "          google.colab.kernel.accessAllowed ? 'block' : 'none';\n",
              "\n",
              "        async function convertToInteractive(key) {\n",
              "          const element = document.querySelector('#df-42647fcc-4af6-41c0-b9cb-dcb4d4e5d1ff');\n",
              "          const dataTable =\n",
              "            await google.colab.kernel.invokeFunction('convertToInteractive',\n",
              "                                                     [key], {});\n",
              "          if (!dataTable) return;\n",
              "\n",
              "          const docLinkHtml = 'Like what you see? Visit the ' +\n",
              "            '<a target=\"_blank\" href=https://colab.research.google.com/notebooks/data_table.ipynb>data table notebook</a>'\n",
              "            + ' to learn more about interactive tables.';\n",
              "          element.innerHTML = '';\n",
              "          dataTable['output_type'] = 'display_data';\n",
              "          await google.colab.output.renderOutput(dataTable, element);\n",
              "          const docLink = document.createElement('div');\n",
              "          docLink.innerHTML = docLinkHtml;\n",
              "          element.appendChild(docLink);\n",
              "        }\n",
              "      </script>\n",
              "    </div>\n",
              "  </div>\n",
              "  "
            ]
          },
          "metadata": {},
          "execution_count": 30
        }
      ]
    },
    {
      "cell_type": "code",
      "source": [
        "ikea['price'].max(),ikea['price'].min()"
      ],
      "metadata": {
        "colab": {
          "base_uri": "https://localhost:8080/"
        },
        "id": "kVGirrSCBtzS",
        "outputId": "ba45158f-ca7d-4ac8-e0b6-9c977d70bf0b"
      },
      "execution_count": null,
      "outputs": [
        {
          "output_type": "execute_result",
          "data": {
            "text/plain": [
              "(9585.0, 3.0)"
            ]
          },
          "metadata": {},
          "execution_count": 27
        }
      ]
    },
    {
      "cell_type": "code",
      "source": [
        "ikea['designer'].value_counts().sort_values(ascending=False)"
      ],
      "metadata": {
        "colab": {
          "base_uri": "https://localhost:8080/"
        },
        "id": "KTtX1-ypDS2I",
        "outputId": "33b1d8dd-2be0-4b60-c541-e10c7aa77b65"
      },
      "execution_count": null,
      "outputs": [
        {
          "output_type": "execute_result",
          "data": {
            "text/plain": [
              "IKEA of Sweden                                                                                                                                    828\n",
              "Ehlén Johansson                                                                                                                                   161\n",
              "Francis Cayouette                                                                                                                                 151\n",
              "Ola Wihlborg                                                                                                                                      134\n",
              "K Hagberg/M Hagberg                                                                                                                               122\n",
              "                                                                                                                                                 ... \n",
              "904.762.58 The cover is easy to keep clean since it is removable and machine washable.This product is an extra cover. Sofa is sold separately.      1\n",
              "Ebba Strandmark/IKEA of Sweden/Ola Wihlborg/Ehlén Johansson                                                                                         1\n",
              "Gustav Carlberg/Johanna Asshoff                                                                                                                     1\n",
              "IKEA of Sweden/Ehlén Johansson/K Hagberg/M Hagberg                                                                                                  1\n",
              "IKEA of Sweden/Ehlén Johansson/Andreas Fredriksson                                                                                                  1\n",
              "Name: designer, Length: 381, dtype: int64"
            ]
          },
          "metadata": {},
          "execution_count": 44
        }
      ]
    },
    {
      "cell_type": "code",
      "source": [
        "ikea[ikea['short_description'].str.contains('')]"
      ],
      "metadata": {
        "colab": {
          "base_uri": "https://localhost:8080/",
          "height": 49
        },
        "id": "5JWS0e9oGQ2l",
        "outputId": "ae87371a-0d26-42d6-bf5c-1e574fef87aa"
      },
      "execution_count": null,
      "outputs": [
        {
          "output_type": "execute_result",
          "data": {
            "text/plain": [
              "Empty DataFrame\n",
              "Columns: [Unnamed: 0, item_id, name, category, price, old_price, sellable_online, link, other_colors, short_description, designer, depth, height, width]\n",
              "Index: []"
            ],
            "text/html": [
              "\n",
              "  <div id=\"df-b650788d-d321-4be4-91d6-131e8ef5b8c7\">\n",
              "    <div class=\"colab-df-container\">\n",
              "      <div>\n",
              "<style scoped>\n",
              "    .dataframe tbody tr th:only-of-type {\n",
              "        vertical-align: middle;\n",
              "    }\n",
              "\n",
              "    .dataframe tbody tr th {\n",
              "        vertical-align: top;\n",
              "    }\n",
              "\n",
              "    .dataframe thead th {\n",
              "        text-align: right;\n",
              "    }\n",
              "</style>\n",
              "<table border=\"1\" class=\"dataframe\">\n",
              "  <thead>\n",
              "    <tr style=\"text-align: right;\">\n",
              "      <th></th>\n",
              "      <th>Unnamed: 0</th>\n",
              "      <th>item_id</th>\n",
              "      <th>name</th>\n",
              "      <th>category</th>\n",
              "      <th>price</th>\n",
              "      <th>old_price</th>\n",
              "      <th>sellable_online</th>\n",
              "      <th>link</th>\n",
              "      <th>other_colors</th>\n",
              "      <th>short_description</th>\n",
              "      <th>designer</th>\n",
              "      <th>depth</th>\n",
              "      <th>height</th>\n",
              "      <th>width</th>\n",
              "    </tr>\n",
              "  </thead>\n",
              "  <tbody>\n",
              "  </tbody>\n",
              "</table>\n",
              "</div>\n",
              "      <button class=\"colab-df-convert\" onclick=\"convertToInteractive('df-b650788d-d321-4be4-91d6-131e8ef5b8c7')\"\n",
              "              title=\"Convert this dataframe to an interactive table.\"\n",
              "              style=\"display:none;\">\n",
              "        \n",
              "  <svg xmlns=\"http://www.w3.org/2000/svg\" height=\"24px\"viewBox=\"0 0 24 24\"\n",
              "       width=\"24px\">\n",
              "    <path d=\"M0 0h24v24H0V0z\" fill=\"none\"/>\n",
              "    <path d=\"M18.56 5.44l.94 2.06.94-2.06 2.06-.94-2.06-.94-.94-2.06-.94 2.06-2.06.94zm-11 1L8.5 8.5l.94-2.06 2.06-.94-2.06-.94L8.5 2.5l-.94 2.06-2.06.94zm10 10l.94 2.06.94-2.06 2.06-.94-2.06-.94-.94-2.06-.94 2.06-2.06.94z\"/><path d=\"M17.41 7.96l-1.37-1.37c-.4-.4-.92-.59-1.43-.59-.52 0-1.04.2-1.43.59L10.3 9.45l-7.72 7.72c-.78.78-.78 2.05 0 2.83L4 21.41c.39.39.9.59 1.41.59.51 0 1.02-.2 1.41-.59l7.78-7.78 2.81-2.81c.8-.78.8-2.07 0-2.86zM5.41 20L4 18.59l7.72-7.72 1.47 1.35L5.41 20z\"/>\n",
              "  </svg>\n",
              "      </button>\n",
              "      \n",
              "  <style>\n",
              "    .colab-df-container {\n",
              "      display:flex;\n",
              "      flex-wrap:wrap;\n",
              "      gap: 12px;\n",
              "    }\n",
              "\n",
              "    .colab-df-convert {\n",
              "      background-color: #E8F0FE;\n",
              "      border: none;\n",
              "      border-radius: 50%;\n",
              "      cursor: pointer;\n",
              "      display: none;\n",
              "      fill: #1967D2;\n",
              "      height: 32px;\n",
              "      padding: 0 0 0 0;\n",
              "      width: 32px;\n",
              "    }\n",
              "\n",
              "    .colab-df-convert:hover {\n",
              "      background-color: #E2EBFA;\n",
              "      box-shadow: 0px 1px 2px rgba(60, 64, 67, 0.3), 0px 1px 3px 1px rgba(60, 64, 67, 0.15);\n",
              "      fill: #174EA6;\n",
              "    }\n",
              "\n",
              "    [theme=dark] .colab-df-convert {\n",
              "      background-color: #3B4455;\n",
              "      fill: #D2E3FC;\n",
              "    }\n",
              "\n",
              "    [theme=dark] .colab-df-convert:hover {\n",
              "      background-color: #434B5C;\n",
              "      box-shadow: 0px 1px 3px 1px rgba(0, 0, 0, 0.15);\n",
              "      filter: drop-shadow(0px 1px 2px rgba(0, 0, 0, 0.3));\n",
              "      fill: #FFFFFF;\n",
              "    }\n",
              "  </style>\n",
              "\n",
              "      <script>\n",
              "        const buttonEl =\n",
              "          document.querySelector('#df-b650788d-d321-4be4-91d6-131e8ef5b8c7 button.colab-df-convert');\n",
              "        buttonEl.style.display =\n",
              "          google.colab.kernel.accessAllowed ? 'block' : 'none';\n",
              "\n",
              "        async function convertToInteractive(key) {\n",
              "          const element = document.querySelector('#df-b650788d-d321-4be4-91d6-131e8ef5b8c7');\n",
              "          const dataTable =\n",
              "            await google.colab.kernel.invokeFunction('convertToInteractive',\n",
              "                                                     [key], {});\n",
              "          if (!dataTable) return;\n",
              "\n",
              "          const docLinkHtml = 'Like what you see? Visit the ' +\n",
              "            '<a target=\"_blank\" href=https://colab.research.google.com/notebooks/data_table.ipynb>data table notebook</a>'\n",
              "            + ' to learn more about interactive tables.';\n",
              "          element.innerHTML = '';\n",
              "          dataTable['output_type'] = 'display_data';\n",
              "          await google.colab.output.renderOutput(dataTable, element);\n",
              "          const docLink = document.createElement('div');\n",
              "          docLink.innerHTML = docLinkHtml;\n",
              "          element.appendChild(docLink);\n",
              "        }\n",
              "      </script>\n",
              "    </div>\n",
              "  </div>\n",
              "  "
            ]
          },
          "metadata": {},
          "execution_count": 55
        }
      ]
    },
    {
      "cell_type": "code",
      "source": [
        "ikea.count()"
      ],
      "metadata": {
        "colab": {
          "base_uri": "https://localhost:8080/"
        },
        "id": "oSS4RrnsG0PZ",
        "outputId": "9b836a28-ebc2-49d9-895b-d039fa0a4ea3"
      },
      "execution_count": null,
      "outputs": [
        {
          "output_type": "execute_result",
          "data": {
            "text/plain": [
              "Unnamed: 0           3694\n",
              "item_id              3694\n",
              "name                 3694\n",
              "category             3694\n",
              "price                3694\n",
              "old_price            3694\n",
              "sellable_online      3694\n",
              "link                 3694\n",
              "other_colors         3694\n",
              "short_description    3694\n",
              "designer             3694\n",
              "depth                2231\n",
              "height               2706\n",
              "width                3105\n",
              "dtype: int64"
            ]
          },
          "metadata": {},
          "execution_count": 63
        }
      ]
    },
    {
      "cell_type": "code",
      "source": [
        "ikea['name'].nunique()"
      ],
      "metadata": {
        "colab": {
          "base_uri": "https://localhost:8080/"
        },
        "id": "xdGtjrQnHP07",
        "outputId": "ae01f854-a628-44e2-a047-941e11446777"
      },
      "execution_count": null,
      "outputs": [
        {
          "output_type": "execute_result",
          "data": {
            "text/plain": [
              "607"
            ]
          },
          "metadata": {},
          "execution_count": 58
        }
      ]
    },
    {
      "cell_type": "code",
      "source": [
        "walmart['PRODUCT_NAME'].nunique()"
      ],
      "metadata": {
        "colab": {
          "base_uri": "https://localhost:8080/"
        },
        "id": "4Cbm1Po0HpQV",
        "outputId": "fa1d013e-2443-41a4-9ab3-7bb8329eb0bd"
      },
      "execution_count": null,
      "outputs": [
        {
          "output_type": "execute_result",
          "data": {
            "text/plain": [
              "30688"
            ]
          },
          "metadata": {},
          "execution_count": 62
        }
      ]
    },
    {
      "cell_type": "code",
      "source": [
        "walmart['PRICE_CURRENT'].sum()"
      ],
      "metadata": {
        "colab": {
          "base_uri": "https://localhost:8080/"
        },
        "id": "o8VytGAVLGyp",
        "outputId": "72e7f88a-886e-48e9-cd07-12a28c4407ae"
      },
      "execution_count": null,
      "outputs": [
        {
          "output_type": "execute_result",
          "data": {
            "text/plain": [
              "2887739.9599999995"
            ]
          },
          "metadata": {},
          "execution_count": 69
        }
      ]
    },
    {
      "cell_type": "code",
      "source": [
        "ikea['price'].sum()"
      ],
      "metadata": {
        "colab": {
          "base_uri": "https://localhost:8080/"
        },
        "id": "3xZjeLKQLuQ2",
        "outputId": "5807a26f-4326-41cd-d665-45c06a4340d4"
      },
      "execution_count": null,
      "outputs": [
        {
          "output_type": "execute_result",
          "data": {
            "text/plain": [
              "3982901.9000000004"
            ]
          },
          "metadata": {},
          "execution_count": 70
        }
      ]
    },
    {
      "cell_type": "code",
      "source": [
        "#how many times more products does walmart sell than ikea?\n",
        "568534/3694"
      ],
      "metadata": {
        "colab": {
          "base_uri": "https://localhost:8080/"
        },
        "id": "pR6bbtueMnU_",
        "outputId": "e16cada0-9cfb-47db-deda-0e119ee4bb19"
      },
      "execution_count": null,
      "outputs": [
        {
          "output_type": "execute_result",
          "data": {
            "text/plain": [
              "153.90741743367624"
            ]
          },
          "metadata": {},
          "execution_count": 74
        }
      ]
    },
    {
      "cell_type": "code",
      "source": [
        "#how much more does ikea make than walmart?\n",
        "3982901.9000000004-2887739.9599999995"
      ],
      "metadata": {
        "colab": {
          "base_uri": "https://localhost:8080/"
        },
        "id": "cIKRtJ9LNeh2",
        "outputId": "c19ecbf0-a116-44d5-b3ff-348f0006423a"
      },
      "execution_count": null,
      "outputs": [
        {
          "output_type": "execute_result",
          "data": {
            "text/plain": [
              "1095161.9400000009"
            ]
          },
          "metadata": {},
          "execution_count": 75
        }
      ]
    }
  ]
}